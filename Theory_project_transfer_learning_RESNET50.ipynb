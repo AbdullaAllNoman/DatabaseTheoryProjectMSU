{
 "cells": [
  {
   "cell_type": "code",
   "execution_count": 1,
   "id": "4cafba4b",
   "metadata": {},
   "outputs": [],
   "source": [
    "from tensorflow.keras.preprocessing.image import ImageDataGenerator\n",
    "from tensorflow.keras.preprocessing import image\n",
    "from tensorflow.keras.optimizers import RMSprop\n",
    "import matplotlib.pyplot as plt\n",
    "import tensorflow as tf\n",
    "import numpy as np\n",
    "import cv2\n",
    "import os\n",
    "\n",
    "import os\n",
    "import sys\n",
    "stderr = sys.stderr\n",
    "sys.stderr = open(os.devnull, 'w')\n",
    "import keras\n",
    "sys.stderr = stderr\n",
    "    \n",
    "import tensorflow as tf\n",
    "\n",
    "\n",
    "from keras.callbacks import TensorBoard, ModelCheckpoint, EarlyStopping, CSVLogger\n",
    "\n",
    "import argparse\n",
    "from keras.models import Model\n",
    "from keras.models import Sequential\n",
    "from keras.layers import Dense, Dropout, Flatten\n",
    "from keras.layers import Conv2D, MaxPooling2D\n",
    "from keras import backend as K\n",
    "from keras.preprocessing.image import ImageDataGenerator\n",
    "from keras.applications.vgg16 import VGG16\n",
    "import keras.metrics\n",
    "from tensorflow.keras.optimizers import Adam, RMSprop\n",
    "import numpy as np\n",
    "\n",
    "\n",
    "from sklearn.metrics import classification_report, confusion_matrix\n",
    "from sklearn.datasets import make_classification\n",
    "from sklearn.model_selection import train_test_split\n",
    "from sklearn.metrics import roc_curve\n",
    "\n",
    "from sklearn.metrics import auc\n",
    "from keras.models import Sequential\n",
    "from keras.layers import Dense, Activation, Dropout, Flatten, Conv2D, MaxPooling2D\n",
    "from tensorflow.keras.layers import BatchNormalization\n",
    "\n",
    "from keras.models import Sequential\n",
    "from keras.layers.core import Dense, Dropout, Activation, Flatten\n",
    "from keras.layers.convolutional import Conv2D, MaxPooling2D, ZeroPadding2D\n",
    "from keras.regularizers import l2\n",
    "\n",
    "\n",
    "\n",
    "\n",
    "import numpy, scipy.io\n",
    "import torch\n",
    "import torchvision.models as models\n",
    "from keras import models\n",
    "from keras import layers\n",
    "from keras import optimizers\n",
    "from keras.layers.core import Flatten, Dense, Dropout, Lambda\n",
    "import tensorflow as tf\n",
    "from tensorflow.keras.optimizers import SGD\n",
    "from keras.applications.resnet import ResNet50\n",
    "from keras.models import Model\n",
    "import keras"
   ]
  },
  {
   "cell_type": "code",
   "execution_count": 3,
   "id": "0f738b0d",
   "metadata": {},
   "outputs": [],
   "source": [
    "from keras.applications.imagenet_utils import preprocess_input\n",
    "trainRESNET = ImageDataGenerator(dtype='float32',preprocessing_function=preprocess_input)\n",
    "testRESNET = ImageDataGenerator(dtype='float32',preprocessing_function=preprocess_input)\n",
    "validationRESNET = ImageDataGenerator(dtype='float32',preprocessing_function=preprocess_input)"
   ]
  },
  {
   "cell_type": "code",
   "execution_count": 9,
   "id": "41146ceb",
   "metadata": {},
   "outputs": [
    {
     "name": "stdout",
     "output_type": "stream",
     "text": [
      "Found 3200 images belonging to 4 classes.\n",
      "Found 800 images belonging to 4 classes.\n",
      "Found 1600 images belonging to 4 classes.\n"
     ]
    }
   ],
   "source": [
    "IMAGE_SIZE_RESNET = (150, 150)\n",
    "NUM_EPOCHS_RESNET = 50\n",
    "BATCH_SIZE_RESNET = 32\n",
    "LEARNING_RATE_RESNET = 0.001\n",
    "DROP_OUT_RESNET = 0.3\n",
    "\n",
    "train_dataset_RESNET = trainRESNET.flow_from_directory('dataset/Train/',\n",
    "                                         target_size = IMAGE_SIZE_RESNET,\n",
    "                                         color_mode='rgb',\n",
    "                                         batch_size = BATCH_SIZE_RESNET,\n",
    "                                         class_mode = 'categorical',\n",
    "                                         shuffle=False)\n",
    "\n",
    "test_dataset_RESNET = trainRESNET.flow_from_directory('dataset/Test/',\n",
    "                                         target_size = IMAGE_SIZE_RESNET,\n",
    "                                         color_mode='rgb',\n",
    "                                         batch_size = BATCH_SIZE_RESNET,\n",
    "                                         class_mode = 'categorical',\n",
    "                                         shuffle=False)\n",
    "\n",
    "validation_dataset_RESNET = trainRESNET.flow_from_directory('dataset/Validation/',\n",
    "                                         target_size = IMAGE_SIZE_RESNET,\n",
    "                                         color_mode='rgb',\n",
    "                                         batch_size = BATCH_SIZE_RESNET,\n",
    "                                         class_mode = 'categorical',\n",
    "                                         shuffle=False)"
   ]
  },
  {
   "cell_type": "code",
   "execution_count": 10,
   "id": "403b31cf",
   "metadata": {},
   "outputs": [
    {
     "data": {
      "text/plain": [
       "{'covid': 0, 'normal': 1, 'pneumonia': 2, 'tuberculosis': 3}"
      ]
     },
     "execution_count": 10,
     "metadata": {},
     "output_type": "execute_result"
    }
   ],
   "source": [
    "validation_dataset_RESNET.class_indices"
   ]
  },
  {
   "cell_type": "code",
   "execution_count": 11,
   "id": "9531964e",
   "metadata": {},
   "outputs": [],
   "source": [
    "STEP_SIZE_TRAIN_RESNET=len(train_dataset_RESNET)\n",
    "STEP_SIZE_VALID_RESNET=len(validation_dataset_RESNET)"
   ]
  },
  {
   "cell_type": "code",
   "execution_count": 12,
   "id": "013bedca",
   "metadata": {},
   "outputs": [
    {
     "name": "stdout",
     "output_type": "stream",
     "text": [
      "INFO:tensorflow:Assets written to: RIoTResnet50.model\\assets\n"
     ]
    },
    {
     "name": "stderr",
     "output_type": "stream",
     "text": [
      "C:\\Users\\Hp\\AppData\\Roaming\\Python\\Python36\\site-packages\\keras\\utils\\generic_utils.py:497: CustomMaskWarning: Custom mask layers require a config and must override get_config. When loading, the custom mask layer must be passed to the custom_objects argument.\n",
      "  category=CustomMaskWarning)\n"
     ]
    }
   ],
   "source": [
    "conv_base_RESNET = ResNet50(include_top=False, input_shape=(150,150,3), pooling='avg',classes=4, weights='imagenet')\n",
    "for layer in conv_base_RESNET.layers:layer.trainable=False\n",
    "\n",
    "model_RESNET = models.Sequential()\n",
    "model_RESNET.add(conv_base_RESNET)\n",
    "model_RESNET.add(layers.Flatten())\n",
    "model_RESNET.add(layers.Dense(128, activation='relu'))\n",
    "model_RESNET.add(Dropout(DROP_OUT_RESNET))\n",
    "model_RESNET.add(layers.Dense(4, activation='softmax'))\n",
    "model_RESNET.compile(loss='categorical_crossentropy', optimizer=RMSprop(learning_rate=LEARNING_RATE_RESNET), metrics=['acc'])\n",
    "model_RESNET.save('RIoTResnet50.model')"
   ]
  },
  {
   "cell_type": "code",
   "execution_count": 13,
   "id": "dbaafd45",
   "metadata": {},
   "outputs": [],
   "source": [
    "# Define early stopping callback\n",
    "early_stop = EarlyStopping(monitor='val_loss', patience=5, verbose=1, mode='auto')"
   ]
  },
  {
   "cell_type": "code",
   "execution_count": 14,
   "id": "17677a4d",
   "metadata": {},
   "outputs": [
    {
     "name": "stdout",
     "output_type": "stream",
     "text": [
      "Model: \"sequential_1\"\n",
      "_________________________________________________________________\n",
      "Layer (type)                 Output Shape              Param #   \n",
      "=================================================================\n",
      "resnet50 (Functional)        (None, 2048)              23587712  \n",
      "_________________________________________________________________\n",
      "flatten_1 (Flatten)          (None, 2048)              0         \n",
      "_________________________________________________________________\n",
      "dense_2 (Dense)              (None, 128)               262272    \n",
      "_________________________________________________________________\n",
      "dropout_1 (Dropout)          (None, 128)               0         \n",
      "_________________________________________________________________\n",
      "dense_3 (Dense)              (None, 4)                 516       \n",
      "=================================================================\n",
      "Total params: 23,850,500\n",
      "Trainable params: 262,788\n",
      "Non-trainable params: 23,587,712\n",
      "_________________________________________________________________\n",
      "None\n"
     ]
    }
   ],
   "source": [
    "print(model_RESNET.summary())"
   ]
  },
  {
   "cell_type": "code",
   "execution_count": 15,
   "id": "40520e77",
   "metadata": {},
   "outputs": [
    {
     "name": "stdout",
     "output_type": "stream",
     "text": [
      "Epoch 1/50\n",
      "100/100 [==============================] - 320s 3s/step - loss: 1.5996 - acc: 0.6037 - val_loss: 1.0444 - val_acc: 0.5775\n",
      "Epoch 2/50\n",
      "100/100 [==============================] - 312s 3s/step - loss: 0.6373 - acc: 0.7534 - val_loss: 0.2787 - val_acc: 0.9100\n",
      "Epoch 3/50\n",
      "100/100 [==============================] - 311s 3s/step - loss: 0.4473 - acc: 0.8163 - val_loss: 0.3664 - val_acc: 0.8406\n",
      "Epoch 4/50\n",
      "100/100 [==============================] - 308s 3s/step - loss: 0.3849 - acc: 0.8656 - val_loss: 0.3564 - val_acc: 0.8600\n",
      "Epoch 5/50\n",
      "100/100 [==============================] - 307s 3s/step - loss: 0.3216 - acc: 0.8775 - val_loss: 0.1916 - val_acc: 0.9219\n",
      "Epoch 6/50\n",
      "100/100 [==============================] - 309s 3s/step - loss: 0.2783 - acc: 0.9019 - val_loss: 0.1972 - val_acc: 0.9219\n",
      "Epoch 7/50\n",
      "100/100 [==============================] - 307s 3s/step - loss: 0.2390 - acc: 0.9103 - val_loss: 0.1542 - val_acc: 0.9450\n",
      "Epoch 8/50\n",
      "100/100 [==============================] - 307s 3s/step - loss: 0.2306 - acc: 0.9184 - val_loss: 0.0928 - val_acc: 0.9656\n",
      "Epoch 9/50\n",
      "100/100 [==============================] - 306s 3s/step - loss: 0.1888 - acc: 0.9353 - val_loss: 0.0876 - val_acc: 0.9750\n",
      "Epoch 10/50\n",
      "100/100 [==============================] - 308s 3s/step - loss: 0.1616 - acc: 0.9403 - val_loss: 0.1452 - val_acc: 0.9444\n",
      "Epoch 11/50\n",
      "100/100 [==============================] - 306s 3s/step - loss: 0.1550 - acc: 0.9444 - val_loss: 0.0808 - val_acc: 0.9725\n",
      "Epoch 12/50\n",
      "100/100 [==============================] - 306s 3s/step - loss: 0.1422 - acc: 0.9491 - val_loss: 0.0465 - val_acc: 0.9887\n",
      "Epoch 13/50\n",
      "100/100 [==============================] - 261s 3s/step - loss: 0.1385 - acc: 0.9516 - val_loss: 0.0425 - val_acc: 0.9875\n",
      "Epoch 14/50\n",
      "100/100 [==============================] - 178s 2s/step - loss: 0.1230 - acc: 0.9500 - val_loss: 0.1173 - val_acc: 0.9494\n",
      "Epoch 15/50\n",
      "100/100 [==============================] - 178s 2s/step - loss: 0.1157 - acc: 0.9603 - val_loss: 0.0348 - val_acc: 0.9894\n",
      "Epoch 16/50\n",
      "100/100 [==============================] - 177s 2s/step - loss: 0.0981 - acc: 0.9656 - val_loss: 0.0448 - val_acc: 0.9844\n",
      "Epoch 17/50\n",
      "100/100 [==============================] - 176s 2s/step - loss: 0.0816 - acc: 0.9691 - val_loss: 0.0260 - val_acc: 0.9919\n",
      "Epoch 18/50\n",
      "100/100 [==============================] - 176s 2s/step - loss: 0.0917 - acc: 0.9697 - val_loss: 0.0316 - val_acc: 0.9919\n",
      "Epoch 19/50\n",
      "100/100 [==============================] - 177s 2s/step - loss: 0.0763 - acc: 0.9684 - val_loss: 0.0608 - val_acc: 0.9769\n",
      "Epoch 20/50\n",
      "100/100 [==============================] - 177s 2s/step - loss: 0.0684 - acc: 0.9728 - val_loss: 0.0308 - val_acc: 0.9912\n",
      "Epoch 21/50\n",
      "100/100 [==============================] - 176s 2s/step - loss: 0.0768 - acc: 0.9769 - val_loss: 0.0192 - val_acc: 0.9969\n",
      "Epoch 22/50\n",
      "100/100 [==============================] - 177s 2s/step - loss: 0.0659 - acc: 0.9778 - val_loss: 0.0237 - val_acc: 0.9919\n",
      "Epoch 23/50\n",
      "100/100 [==============================] - 177s 2s/step - loss: 0.0614 - acc: 0.9775 - val_loss: 0.0173 - val_acc: 0.9944\n",
      "Epoch 24/50\n",
      "100/100 [==============================] - 176s 2s/step - loss: 0.0560 - acc: 0.9822 - val_loss: 0.0166 - val_acc: 0.9969\n",
      "Epoch 25/50\n",
      "100/100 [==============================] - 177s 2s/step - loss: 0.0498 - acc: 0.9837 - val_loss: 0.0653 - val_acc: 0.9781\n",
      "Epoch 26/50\n",
      "100/100 [==============================] - 179s 2s/step - loss: 0.0431 - acc: 0.9844 - val_loss: 0.0189 - val_acc: 0.9931\n",
      "Epoch 27/50\n",
      "100/100 [==============================] - 184s 2s/step - loss: 0.0550 - acc: 0.9822 - val_loss: 0.0262 - val_acc: 0.9900\n",
      "Epoch 28/50\n",
      "100/100 [==============================] - 179s 2s/step - loss: 0.0485 - acc: 0.9812 - val_loss: 0.0248 - val_acc: 0.9900\n",
      "Epoch 29/50\n",
      "100/100 [==============================] - 176s 2s/step - loss: 0.0414 - acc: 0.9866 - val_loss: 0.0097 - val_acc: 0.9981\n",
      "Epoch 30/50\n",
      "100/100 [==============================] - 177s 2s/step - loss: 0.0339 - acc: 0.9869 - val_loss: 0.0099 - val_acc: 0.9975\n",
      "Epoch 31/50\n",
      "100/100 [==============================] - 176s 2s/step - loss: 0.0460 - acc: 0.9853 - val_loss: 0.0061 - val_acc: 0.9987\n",
      "Epoch 32/50\n",
      "100/100 [==============================] - 176s 2s/step - loss: 0.0329 - acc: 0.9906 - val_loss: 0.0075 - val_acc: 0.9987\n",
      "Epoch 33/50\n",
      "100/100 [==============================] - 178s 2s/step - loss: 0.0348 - acc: 0.9897 - val_loss: 0.0108 - val_acc: 0.9956\n",
      "Epoch 34/50\n",
      "100/100 [==============================] - 177s 2s/step - loss: 0.0345 - acc: 0.9872 - val_loss: 0.0125 - val_acc: 0.9975\n",
      "Epoch 35/50\n",
      "100/100 [==============================] - 178s 2s/step - loss: 0.0222 - acc: 0.9925 - val_loss: 0.0307 - val_acc: 0.9875\n",
      "Epoch 36/50\n",
      "100/100 [==============================] - 177s 2s/step - loss: 0.0310 - acc: 0.9894 - val_loss: 0.0041 - val_acc: 0.9987\n",
      "Epoch 37/50\n",
      "100/100 [==============================] - 185s 2s/step - loss: 0.0338 - acc: 0.9887 - val_loss: 0.0161 - val_acc: 0.9950\n",
      "Epoch 38/50\n",
      "100/100 [==============================] - 193s 2s/step - loss: 0.0284 - acc: 0.9881 - val_loss: 0.0071 - val_acc: 0.9975\n",
      "Epoch 39/50\n",
      "100/100 [==============================] - 199s 2s/step - loss: 0.0192 - acc: 0.9912 - val_loss: 0.0043 - val_acc: 1.0000\n",
      "Epoch 40/50\n",
      "100/100 [==============================] - 193s 2s/step - loss: 0.0264 - acc: 0.9891 - val_loss: 0.0132 - val_acc: 0.9944\n",
      "Epoch 41/50\n",
      "100/100 [==============================] - 193s 2s/step - loss: 0.0196 - acc: 0.9937 - val_loss: 0.0099 - val_acc: 0.9981\n",
      "Epoch 00041: early stopping\n"
     ]
    }
   ],
   "source": [
    "from keras.callbacks import CSVLogger\n",
    "csv_RESNET50 = CSVLogger('trainingRESNET50.log', separator=',', append=False)\n",
    "\n",
    "history_RESNET=model_RESNET.fit(train_dataset_RESNET,\n",
    " steps_per_epoch =STEP_SIZE_TRAIN_RESNET,\n",
    " validation_data = validation_dataset_RESNET,\n",
    " validation_steps = STEP_SIZE_VALID_RESNET,\n",
    " epochs= NUM_EPOCHS_RESNET,\n",
    " callbacks=[early_stop]\n",
    " )"
   ]
  },
  {
   "cell_type": "code",
   "execution_count": 16,
   "id": "0b39e751",
   "metadata": {},
   "outputs": [
    {
     "name": "stdout",
     "output_type": "stream",
     "text": [
      "25/25 [==============================] - 34s 1s/step - loss: 0.4327 - acc: 0.9400\n"
     ]
    },
    {
     "data": {
      "text/plain": [
       "[0.43265998363494873, 0.9399999976158142]"
      ]
     },
     "execution_count": 16,
     "metadata": {},
     "output_type": "execute_result"
    }
   ],
   "source": [
    "model_RESNET.evaluate(test_dataset_RESNET)"
   ]
  },
  {
   "cell_type": "code",
   "execution_count": 17,
   "id": "c0aee27f",
   "metadata": {},
   "outputs": [],
   "source": [
    "predictions_RESNET = model_RESNET.predict(x=test_dataset_RESNET, verbose=0)"
   ]
  },
  {
   "cell_type": "code",
   "execution_count": 18,
   "id": "53e61a40",
   "metadata": {},
   "outputs": [],
   "source": [
    "rounded_predictions_RESNET = np.argmax(predictions_RESNET, axis=-1)"
   ]
  },
  {
   "cell_type": "code",
   "execution_count": null,
   "id": "7f4ca7dd",
   "metadata": {},
   "outputs": [],
   "source": []
  },
  {
   "cell_type": "code",
   "execution_count": 19,
   "id": "539dd6c0",
   "metadata": {},
   "outputs": [],
   "source": [
    "%matplotlib inline\n",
    "from sklearn.metrics import confusion_matrix\n",
    "import itertools\n",
    "import matplotlib.pyplot as plt"
   ]
  },
  {
   "cell_type": "code",
   "execution_count": 20,
   "id": "5ccc87b8",
   "metadata": {},
   "outputs": [],
   "source": [
    "cm_RESNET = confusion_matrix(y_true=test_dataset_RESNET.classes, y_pred=rounded_predictions_RESNET)"
   ]
  },
  {
   "cell_type": "code",
   "execution_count": 21,
   "id": "5de2caa5",
   "metadata": {},
   "outputs": [],
   "source": [
    "def plot_confusion_matrix(cm, classes,\n",
    "                          normalize=False,\n",
    "                          title='Confusion matrix',\n",
    "                          cmap=plt.cm.Blues):\n",
    "    \"\"\"\n",
    "    This function prints and plots the confusion matrix.\n",
    "    Normalization can be applied by setting `normalize=True`.\n",
    "    \"\"\"\n",
    "    plt.imshow(cm, interpolation='nearest', cmap=cmap)\n",
    "    plt.title(title)\n",
    "    plt.colorbar()\n",
    "    tick_marks = np.arange(len(classes))\n",
    "    plt.xticks(tick_marks, classes, rotation=45)\n",
    "    plt.yticks(tick_marks, classes)\n",
    "\n",
    "    if normalize:\n",
    "        cm = cm.astype('float') / cm.sum(axis=1)[:, np.newaxis]\n",
    "        print(\"Normalized confusion matrix\")\n",
    "    else:\n",
    "        print('Confusion matrix, without normalization')\n",
    "\n",
    "    print(cm)\n",
    "\n",
    "    thresh = cm.max() / 2.\n",
    "    for i, j in itertools.product(range(cm.shape[0]), range(cm.shape[1])):\n",
    "        plt.text(j, i, cm[i, j],\n",
    "                 horizontalalignment=\"center\",\n",
    "                 color=\"white\" if cm[i, j] > thresh else \"black\")\n",
    "\n",
    "    plt.tight_layout()\n",
    "    plt.ylabel('True label')\n",
    "    plt.xlabel('Predicted label')"
   ]
  },
  {
   "cell_type": "code",
   "execution_count": 22,
   "id": "6a64f9cf",
   "metadata": {},
   "outputs": [
    {
     "name": "stdout",
     "output_type": "stream",
     "text": [
      "Confusion matrix, without normalization\n",
      "[[165  25   2   8]\n",
      " [  1 196   0   3]\n",
      " [  3   1 194   2]\n",
      " [  1   1   1 197]]\n"
     ]
    },
    {
     "data": {
      "image/png": "[encoded data removed]",
      "text/plain": [
       "<Figure size 432x288 with 2 Axes>"
      ]
     },
     "metadata": {
      "needs_background": "light"
     },
     "output_type": "display_data"
    }
   ],
   "source": [
    "cm_plot_labels = ['covid', 'normal','tuberculosis', 'pneumonia']\n",
    "plot_confusion_matrix(cm=cm_RESNET, classes=cm_plot_labels, title='Confusion Matrix RESNET50')"
   ]
  },
  {
   "cell_type": "code",
   "execution_count": 23,
   "id": "15d96b58",
   "metadata": {},
   "outputs": [],
   "source": [
    "from sklearn.metrics import confusion_matrix, classification_report\n",
    "import seaborn as sns"
   ]
  },
  {
   "cell_type": "code",
   "execution_count": 24,
   "id": "2181b3fe",
   "metadata": {},
   "outputs": [
    {
     "name": "stdout",
     "output_type": "stream",
     "text": [
      "              precision    recall  f1-score   support\n",
      "\n",
      "       covid       0.97      0.82      0.89       200\n",
      "      normal       0.88      0.98      0.93       200\n",
      "tuberculosis       0.98      0.97      0.98       200\n",
      "   pneumonia       0.94      0.98      0.96       200\n",
      "\n",
      "    accuracy                           0.94       800\n",
      "   macro avg       0.94      0.94      0.94       800\n",
      "weighted avg       0.94      0.94      0.94       800\n",
      "\n"
     ]
    }
   ],
   "source": [
    "labels = ['covid', 'normal','tuberculosis', 'pneumonia']\n",
    "report_RESNET = classification_report(test_dataset_RESNET.classes, rounded_predictions_RESNET, target_names=labels)\n",
    "print(report_RESNET)"
   ]
  },
  {
   "cell_type": "code",
   "execution_count": 25,
   "id": "7fbdfde4",
   "metadata": {},
   "outputs": [],
   "source": [
    "# create history loss and accuracy function\n",
    "def plot_loss_acc(history):\n",
    "    train_loss = history.history['loss']\n",
    "    val_loss = history.history['val_loss']\n",
    "    acc = history.history['acc']\n",
    "    val_acc = history.history['val_acc']\n",
    "    epochs = range(len(train_loss))\n",
    "\n",
    "    plt.figure(figsize=(8,6))\n",
    "    plt.plot(epochs, train_loss, color='b', label='Train')\n",
    "    plt.plot(epochs, val_loss, color='orange', label='Validation')\n",
    "    plt.legend()\n",
    "    plt.title('Model Loss')\n",
    "    plt.xlabel('Epoch')\n",
    "    plt.ylabel('Loss')\n",
    "    \n",
    "    \n",
    "    plt.figure(figsize=(8,6))\n",
    "    plt.plot(epochs, acc, color='b', label='Train')\n",
    "    plt.plot(epochs, val_acc, color='orange', label='Validation')\n",
    "    plt.legend()\n",
    "    plt.title('Model Accuracy')\n",
    "    plt.xlabel('Epoch')\n",
    "    plt.ylabel('Accuracy')\n",
    "    \n",
    "    plt.show()"
   ]
  },
  {
   "cell_type": "code",
   "execution_count": 26,
   "id": "239014a1",
   "metadata": {},
   "outputs": [
    {
     "data": {
      "image/png": "[encoded data removed]",
      "text/plain": [
       "<Figure size 576x432 with 1 Axes>"
      ]
     },
     "metadata": {
      "needs_background": "light"
     },
     "output_type": "display_data"
    },
    {
     "data": {
      "image/png": "[encoded data removed]",
      "text/plain": [
       "<Figure size 576x432 with 1 Axes>"
      ]
     },
     "metadata": {
      "needs_background": "light"
     },
     "output_type": "display_data"
    }
   ],
   "source": [
    "plot_loss_acc(history_RESNET)"
   ]
  },
  {
   "cell_type": "code",
   "execution_count": null,
   "id": "be5d36b3",
   "metadata": {},
   "outputs": [],
   "source": []
  },
  {
   "cell_type": "code",
   "execution_count": null,
   "id": "5358c289",
   "metadata": {},
   "outputs": [],
   "source": []
  },
  {
   "cell_type": "code",
   "execution_count": null,
   "id": "0b7205d8",
   "metadata": {},
   "outputs": [],
   "source": []
  }
 ],
 "metadata": {
  "kernelspec": {
   "display_name": "Python 3",
   "language": "python",
   "name": "python3"
  },
  "language_info": {
   "codemirror_mode": {
    "name": "ipython",
    "version": 3
   },
   "file_extension": ".py",
   "mimetype": "text/x-python",
   "name": "python",
   "nbconvert_exporter": "python",
   "pygments_lexer": "ipython3",
   "version": "3.6.12"
  }
 },
 "nbformat": 4,
 "nbformat_minor": 5
}
