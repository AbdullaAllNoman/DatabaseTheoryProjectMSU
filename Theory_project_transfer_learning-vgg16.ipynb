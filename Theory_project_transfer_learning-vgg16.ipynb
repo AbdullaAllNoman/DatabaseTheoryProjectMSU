{
 "cells": [
  {
   "cell_type": "code",
   "execution_count": 1,
   "id": "4cafba4b",
   "metadata": {},
   "outputs": [],
   "source": [
    "from tensorflow.keras.preprocessing.image import ImageDataGenerator\n",
    "from tensorflow.keras.preprocessing import image\n",
    "from tensorflow.keras.optimizers import RMSprop\n",
    "import matplotlib.pyplot as plt\n",
    "import tensorflow as tf\n",
    "import numpy as np\n",
    "import cv2\n",
    "import os\n",
    "\n",
    "import os\n",
    "import sys\n",
    "stderr = sys.stderr\n",
    "sys.stderr = open(os.devnull, 'w')\n",
    "import keras\n",
    "sys.stderr = stderr\n",
    "    \n",
    "import tensorflow as tf\n",
    "\n",
    "\n",
    "from keras.callbacks import TensorBoard, ModelCheckpoint, EarlyStopping, CSVLogger\n",
    "\n",
    "import argparse\n",
    "from keras.models import Model\n",
    "from keras.models import Sequential\n",
    "from keras.layers import Dense, Dropout, Flatten\n",
    "from keras.layers import Conv2D, MaxPooling2D\n",
    "from keras import backend as K\n",
    "from keras.preprocessing.image import ImageDataGenerator\n",
    "from keras.applications.vgg16 import VGG16\n",
    "import keras.metrics\n",
    "from tensorflow.keras.optimizers import Adam, RMSprop\n",
    "import numpy as np\n",
    "\n",
    "\n",
    "from sklearn.metrics import classification_report, confusion_matrix\n",
    "from sklearn.datasets import make_classification\n",
    "from sklearn.model_selection import train_test_split\n",
    "from sklearn.metrics import roc_curve\n",
    "\n",
    "from sklearn.metrics import auc\n",
    "from keras.models import Sequential\n",
    "from keras.layers import Dense, Activation, Dropout, Flatten, Conv2D, MaxPooling2D\n",
    "from tensorflow.keras.layers import BatchNormalization\n",
    "\n",
    "from keras.models import Sequential\n",
    "from keras.layers.core import Dense, Dropout, Activation, Flatten\n",
    "from keras.layers.convolutional import Conv2D, MaxPooling2D, ZeroPadding2D\n",
    "from keras.regularizers import l2\n",
    "\n",
    "\n",
    "\n",
    "\n",
    "import numpy, scipy.io\n",
    "import torch\n",
    "import torchvision.models as models\n",
    "from keras import models\n",
    "from keras import layers\n",
    "from keras import optimizers\n",
    "from keras.layers.core import Flatten, Dense, Dropout, Lambda\n",
    "import tensorflow as tf\n",
    "from tensorflow.keras.optimizers import SGD\n",
    "from keras.applications.resnet import ResNet50\n",
    "from keras.models import Model\n",
    "import keras"
   ]
  },
  {
   "cell_type": "code",
   "execution_count": 2,
   "id": "59583197",
   "metadata": {},
   "outputs": [],
   "source": [
    "from keras.applications.resnet import preprocess_input\n",
    "trainVGG = ImageDataGenerator(rescale=1./255,\n",
    "                          rotation_range=0.2,\n",
    "                          shear_range=0.2,\n",
    "                          horizontal_flip=True)\n",
    "testVGG = ImageDataGenerator(rescale = 1./255,\n",
    "                          rotation_range=0.2,\n",
    "                          shear_range=0.2,\n",
    "                          horizontal_flip=True)\n",
    "validationVGG = ImageDataGenerator(rescale = 1./255)"
   ]
  },
  {
   "cell_type": "code",
   "execution_count": 3,
   "id": "2d3099fe",
   "metadata": {},
   "outputs": [
    {
     "name": "stdout",
     "output_type": "stream",
     "text": [
      "Found 3200 images belonging to 4 classes.\n",
      "Found 800 images belonging to 4 classes.\n",
      "Found 1600 images belonging to 4 classes.\n"
     ]
    }
   ],
   "source": [
    "IMAGE_SIZE_VGG = (150, 150)\n",
    "NUM_EPOCHS_VGG = 50\n",
    "BATCH_SIZE_VGG = 32\n",
    "LEARNING_RATE_VGG = 0.001\n",
    "DROP_OUT_VGG = 0.3\n",
    "\n",
    "\n",
    "train_dataset_VGG = trainVGG.flow_from_directory('dataset/Train/',\n",
    "                                         target_size = IMAGE_SIZE_VGG,\n",
    "                                         color_mode='rgb',\n",
    "                                         batch_size = BATCH_SIZE_VGG,\n",
    "                                         class_mode = 'categorical',\n",
    "                                         shuffle=False)\n",
    "\n",
    "test_dataset_VGG = trainVGG.flow_from_directory('dataset/Test/',\n",
    "                                         target_size = IMAGE_SIZE_VGG,\n",
    "                                         color_mode='rgb',\n",
    "                                         batch_size = BATCH_SIZE_VGG,\n",
    "                                         class_mode = 'categorical',\n",
    "                                         shuffle=False)\n",
    "\n",
    "validation_dataset_VGG = trainVGG.flow_from_directory('dataset/Validation/',\n",
    "                                         target_size = IMAGE_SIZE_VGG,\n",
    "                                         color_mode='rgb',\n",
    "                                         batch_size = BATCH_SIZE_VGG,\n",
    "                                         class_mode = 'categorical',\n",
    "                                         shuffle=False)"
   ]
  },
  {
   "cell_type": "code",
   "execution_count": 4,
   "id": "53ec91cb",
   "metadata": {},
   "outputs": [
    {
     "data": {
      "text/plain": [
       "{'covid': 0, 'normal': 1, 'pneumonia': 2, 'tuberculosis': 3}"
      ]
     },
     "execution_count": 4,
     "metadata": {},
     "output_type": "execute_result"
    }
   ],
   "source": [
    "validation_dataset_VGG.class_indices"
   ]
  },
  {
   "cell_type": "code",
   "execution_count": 5,
   "id": "c8fbd80d",
   "metadata": {},
   "outputs": [],
   "source": [
    "STEP_SIZE_TRAIN_VGG=len(train_dataset_VGG)\n",
    "STEP_SIZE_VALID_VGG=len(validation_dataset_VGG)"
   ]
  },
  {
   "cell_type": "code",
   "execution_count": null,
   "id": "0082aee9",
   "metadata": {},
   "outputs": [],
   "source": []
  },
  {
   "cell_type": "code",
   "execution_count": 6,
   "id": "f9c516e3",
   "metadata": {},
   "outputs": [
    {
     "name": "stdout",
     "output_type": "stream",
     "text": [
      "INFO:tensorflow:Assets written to: RIoTVGG16.model\\assets\n"
     ]
    }
   ],
   "source": [
    "conv_base_VGG = VGG16(weights='imagenet', include_top=False, input_shape=(150, 150, 3))\n",
    "conv_base_VGG.trainable = False\n",
    "\n",
    "model_VGG = models.Sequential()\n",
    "model_VGG.add(conv_base_VGG)\n",
    "model_VGG.add(layers.Flatten())\n",
    "model_VGG.add(layers.Dense(128, activation='relu'))\n",
    "model_VGG.add(Dropout(DROP_OUT_VGG))\n",
    "model_VGG.add(layers.Dense(4, activation='softmax'))\n",
    "model_VGG.compile(loss='categorical_crossentropy', optimizer=RMSprop(learning_rate=LEARNING_RATE_VGG), metrics=['acc'])\n",
    "model_VGG.save('RIoTVGG16.model')"
   ]
  },
  {
   "cell_type": "code",
   "execution_count": 7,
   "id": "3a40b8c9",
   "metadata": {},
   "outputs": [],
   "source": [
    "# Define early stopping callback\n",
    "early_stop = EarlyStopping(monitor='val_loss', patience=5, verbose=1, mode='auto')"
   ]
  },
  {
   "cell_type": "code",
   "execution_count": 8,
   "id": "cb670561",
   "metadata": {},
   "outputs": [
    {
     "name": "stdout",
     "output_type": "stream",
     "text": [
      "Model: \"sequential\"\n",
      "_________________________________________________________________\n",
      "Layer (type)                 Output Shape              Param #   \n",
      "=================================================================\n",
      "vgg16 (Functional)           (None, 4, 4, 512)         14714688  \n",
      "_________________________________________________________________\n",
      "flatten (Flatten)            (None, 8192)              0         \n",
      "_________________________________________________________________\n",
      "dense (Dense)                (None, 128)               1048704   \n",
      "_________________________________________________________________\n",
      "dropout (Dropout)            (None, 128)               0         \n",
      "_________________________________________________________________\n",
      "dense_1 (Dense)              (None, 4)                 516       \n",
      "=================================================================\n",
      "Total params: 15,763,908\n",
      "Trainable params: 1,049,220\n",
      "Non-trainable params: 14,714,688\n",
      "_________________________________________________________________\n",
      "None\n"
     ]
    }
   ],
   "source": [
    "print(model_VGG.summary())"
   ]
  },
  {
   "cell_type": "code",
   "execution_count": 9,
   "id": "19086468",
   "metadata": {},
   "outputs": [
    {
     "name": "stdout",
     "output_type": "stream",
     "text": [
      "Epoch 1/50\n",
      "100/100 [==============================] - 543s 5s/step - loss: 1.8717 - acc: 0.4672 - val_loss: 0.7910 - val_acc: 0.6950\n",
      "Epoch 2/50\n",
      "100/100 [==============================] - 542s 5s/step - loss: 0.7189 - acc: 0.7250 - val_loss: 0.7431 - val_acc: 0.6637\n",
      "Epoch 3/50\n",
      "100/100 [==============================] - 547s 5s/step - loss: 0.6118 - acc: 0.7653 - val_loss: 0.3673 - val_acc: 0.8569\n",
      "Epoch 4/50\n",
      "100/100 [==============================] - 543s 5s/step - loss: 0.5145 - acc: 0.8094 - val_loss: 0.3703 - val_acc: 0.8631\n",
      "Epoch 5/50\n",
      "100/100 [==============================] - 541s 5s/step - loss: 0.4605 - acc: 0.8250 - val_loss: 0.2706 - val_acc: 0.9019\n",
      "Epoch 6/50\n",
      "100/100 [==============================] - 545s 5s/step - loss: 0.3919 - acc: 0.8544 - val_loss: 0.3836 - val_acc: 0.8481\n",
      "Epoch 7/50\n",
      "100/100 [==============================] - 330s 3s/step - loss: 0.3703 - acc: 0.8603 - val_loss: 0.2149 - val_acc: 0.9250\n",
      "Epoch 8/50\n",
      "100/100 [==============================] - 277s 3s/step - loss: 0.3493 - acc: 0.8691 - val_loss: 0.4279 - val_acc: 0.8363\n",
      "Epoch 9/50\n",
      "100/100 [==============================] - 277s 3s/step - loss: 0.3227 - acc: 0.8850 - val_loss: 0.2110 - val_acc: 0.9175\n",
      "Epoch 10/50\n",
      "100/100 [==============================] - 276s 3s/step - loss: 0.3010 - acc: 0.8928 - val_loss: 0.1964 - val_acc: 0.9250\n",
      "Epoch 11/50\n",
      "100/100 [==============================] - 272s 3s/step - loss: 0.2864 - acc: 0.8919 - val_loss: 0.2168 - val_acc: 0.9131\n",
      "Epoch 12/50\n",
      "100/100 [==============================] - 274s 3s/step - loss: 0.2539 - acc: 0.9081 - val_loss: 0.1786 - val_acc: 0.9312\n",
      "Epoch 13/50\n",
      "100/100 [==============================] - 276s 3s/step - loss: 0.2536 - acc: 0.9053 - val_loss: 0.1434 - val_acc: 0.9500\n",
      "Epoch 14/50\n",
      "100/100 [==============================] - 275s 3s/step - loss: 0.2225 - acc: 0.9194 - val_loss: 0.1294 - val_acc: 0.9519\n",
      "Epoch 15/50\n",
      "100/100 [==============================] - 275s 3s/step - loss: 0.2322 - acc: 0.9153 - val_loss: 0.1205 - val_acc: 0.9600\n",
      "Epoch 16/50\n",
      "100/100 [==============================] - 271s 3s/step - loss: 0.2106 - acc: 0.9197 - val_loss: 0.1992 - val_acc: 0.9212\n",
      "Epoch 17/50\n",
      "100/100 [==============================] - 279s 3s/step - loss: 0.2174 - acc: 0.9134 - val_loss: 0.1105 - val_acc: 0.9656\n",
      "Epoch 18/50\n",
      "100/100 [==============================] - 276s 3s/step - loss: 0.1923 - acc: 0.9294 - val_loss: 0.1364 - val_acc: 0.9494\n",
      "Epoch 19/50\n",
      "100/100 [==============================] - 274s 3s/step - loss: 0.1790 - acc: 0.9334 - val_loss: 0.1092 - val_acc: 0.9600\n",
      "Epoch 20/50\n",
      "100/100 [==============================] - 274s 3s/step - loss: 0.1763 - acc: 0.9284 - val_loss: 0.1121 - val_acc: 0.9631\n",
      "Epoch 21/50\n",
      "100/100 [==============================] - 273s 3s/step - loss: 0.1755 - acc: 0.9297 - val_loss: 0.0962 - val_acc: 0.9625\n",
      "Epoch 22/50\n",
      "100/100 [==============================] - 272s 3s/step - loss: 0.1893 - acc: 0.9328 - val_loss: 0.0915 - val_acc: 0.9706\n",
      "Epoch 23/50\n",
      "100/100 [==============================] - 272s 3s/step - loss: 0.1664 - acc: 0.9353 - val_loss: 0.0867 - val_acc: 0.9663\n",
      "Epoch 24/50\n",
      "100/100 [==============================] - 275s 3s/step - loss: 0.1477 - acc: 0.9428 - val_loss: 0.0665 - val_acc: 0.9750\n",
      "Epoch 25/50\n",
      "100/100 [==============================] - 273s 3s/step - loss: 0.1570 - acc: 0.9372 - val_loss: 0.0891 - val_acc: 0.9644\n",
      "Epoch 26/50\n",
      "100/100 [==============================] - 279s 3s/step - loss: 0.1480 - acc: 0.9453 - val_loss: 0.1139 - val_acc: 0.9569\n",
      "Epoch 27/50\n",
      "100/100 [==============================] - 271s 3s/step - loss: 0.1404 - acc: 0.9456 - val_loss: 0.0714 - val_acc: 0.9731\n",
      "Epoch 28/50\n",
      "100/100 [==============================] - 272s 3s/step - loss: 0.1399 - acc: 0.9381 - val_loss: 0.1169 - val_acc: 0.9506\n",
      "Epoch 29/50\n",
      "100/100 [==============================] - 270s 3s/step - loss: 0.1349 - acc: 0.9484 - val_loss: 0.0550 - val_acc: 0.9825\n",
      "Epoch 30/50\n",
      "100/100 [==============================] - 276s 3s/step - loss: 0.1351 - acc: 0.9528 - val_loss: 0.1121 - val_acc: 0.9575\n",
      "Epoch 31/50\n",
      "100/100 [==============================] - 276s 3s/step - loss: 0.1171 - acc: 0.9563 - val_loss: 0.0688 - val_acc: 0.9762\n",
      "Epoch 32/50\n",
      "100/100 [==============================] - 279s 3s/step - loss: 0.1318 - acc: 0.9519 - val_loss: 0.0688 - val_acc: 0.9719\n",
      "Epoch 33/50\n",
      "100/100 [==============================] - 280s 3s/step - loss: 0.1168 - acc: 0.9544 - val_loss: 0.0476 - val_acc: 0.9844\n",
      "Epoch 34/50\n",
      "100/100 [==============================] - 273s 3s/step - loss: 0.1360 - acc: 0.9491 - val_loss: 0.0462 - val_acc: 0.9856\n",
      "Epoch 35/50\n",
      "100/100 [==============================] - 273s 3s/step - loss: 0.1143 - acc: 0.9547 - val_loss: 0.0568 - val_acc: 0.9762\n",
      "Epoch 36/50\n",
      "100/100 [==============================] - 268s 3s/step - loss: 0.1340 - acc: 0.9544 - val_loss: 0.0544 - val_acc: 0.9794\n",
      "Epoch 37/50\n",
      "100/100 [==============================] - 268s 3s/step - loss: 0.1158 - acc: 0.9534 - val_loss: 0.0845 - val_acc: 0.9669\n",
      "Epoch 38/50\n",
      "100/100 [==============================] - 267s 3s/step - loss: 0.1122 - acc: 0.9588 - val_loss: 0.0496 - val_acc: 0.9831\n",
      "Epoch 39/50\n",
      "100/100 [==============================] - 275s 3s/step - loss: 0.1066 - acc: 0.9597 - val_loss: 0.0424 - val_acc: 0.9812\n",
      "Epoch 40/50\n",
      "100/100 [==============================] - 269s 3s/step - loss: 0.1092 - acc: 0.9594 - val_loss: 0.0479 - val_acc: 0.9806\n",
      "Epoch 41/50\n",
      "100/100 [==============================] - 267s 3s/step - loss: 0.1026 - acc: 0.9572 - val_loss: 0.0355 - val_acc: 0.9881\n",
      "Epoch 42/50\n",
      "100/100 [==============================] - 270s 3s/step - loss: 0.1008 - acc: 0.9619 - val_loss: 0.0590 - val_acc: 0.9762\n",
      "Epoch 43/50\n",
      "100/100 [==============================] - 269s 3s/step - loss: 0.0828 - acc: 0.9663 - val_loss: 0.0406 - val_acc: 0.9862\n",
      "Epoch 44/50\n",
      "100/100 [==============================] - 271s 3s/step - loss: 0.0943 - acc: 0.9625 - val_loss: 0.0368 - val_acc: 0.9837\n",
      "Epoch 45/50\n",
      "100/100 [==============================] - 271s 3s/step - loss: 0.0766 - acc: 0.9684 - val_loss: 0.1438 - val_acc: 0.9425\n",
      "Epoch 46/50\n",
      "100/100 [==============================] - 272s 3s/step - loss: 0.0869 - acc: 0.9659 - val_loss: 0.0299 - val_acc: 0.9887\n",
      "Epoch 47/50\n",
      "100/100 [==============================] - 275s 3s/step - loss: 0.0943 - acc: 0.9703 - val_loss: 0.0290 - val_acc: 0.9900\n",
      "Epoch 48/50\n",
      "100/100 [==============================] - 268s 3s/step - loss: 0.0962 - acc: 0.9681 - val_loss: 0.0298 - val_acc: 0.9894\n",
      "Epoch 49/50\n",
      "100/100 [==============================] - 263s 3s/step - loss: 0.0855 - acc: 0.9691 - val_loss: 0.0932 - val_acc: 0.9588\n",
      "Epoch 50/50\n",
      "100/100 [==============================] - 263s 3s/step - loss: 0.0854 - acc: 0.9684 - val_loss: 0.0351 - val_acc: 0.9894\n"
     ]
    }
   ],
   "source": [
    "from keras.callbacks import CSVLogger\n",
    "csv_VGG16 = CSVLogger('trainingVGG16.log', separator=',', append=False)\n",
    "\n",
    "history_VGG=model_VGG.fit(train_dataset_VGG,\n",
    " steps_per_epoch =STEP_SIZE_TRAIN_VGG,\n",
    " validation_data = validation_dataset_VGG,\n",
    " validation_steps = STEP_SIZE_VALID_VGG,\n",
    " epochs= NUM_EPOCHS_VGG,\n",
    " callbacks=[early_stop]\n",
    " )"
   ]
  },
  {
   "cell_type": "code",
   "execution_count": 10,
   "id": "9ac64689",
   "metadata": {},
   "outputs": [
    {
     "name": "stdout",
     "output_type": "stream",
     "text": [
      "25/25 [==============================] - 45s 2s/step - loss: 0.3033 - acc: 0.9513\n"
     ]
    },
    {
     "data": {
      "text/plain": [
       "[0.30331265926361084, 0.9512500166893005]"
      ]
     },
     "execution_count": 10,
     "metadata": {},
     "output_type": "execute_result"
    }
   ],
   "source": [
    "model_VGG.evaluate(test_dataset_VGG)"
   ]
  },
  {
   "cell_type": "code",
   "execution_count": 11,
   "id": "95f89d0b",
   "metadata": {},
   "outputs": [],
   "source": [
    "predictions_VGG = model_VGG.predict(x=test_dataset_VGG, verbose=0)"
   ]
  },
  {
   "cell_type": "code",
   "execution_count": 12,
   "id": "a4b6aa0a",
   "metadata": {},
   "outputs": [],
   "source": [
    "rounded_predictions_VGG = np.argmax(predictions_VGG, axis=-1)"
   ]
  },
  {
   "cell_type": "code",
   "execution_count": null,
   "id": "7f4ca7dd",
   "metadata": {},
   "outputs": [],
   "source": []
  },
  {
   "cell_type": "code",
   "execution_count": 13,
   "id": "539dd6c0",
   "metadata": {},
   "outputs": [],
   "source": [
    "%matplotlib inline\n",
    "from sklearn.metrics import confusion_matrix\n",
    "import itertools\n",
    "import matplotlib.pyplot as plt"
   ]
  },
  {
   "cell_type": "code",
   "execution_count": 14,
   "id": "f2beadab",
   "metadata": {},
   "outputs": [],
   "source": [
    "cm_VGG = confusion_matrix(y_true=test_dataset_VGG.classes, y_pred=rounded_predictions_VGG)"
   ]
  },
  {
   "cell_type": "code",
   "execution_count": 15,
   "id": "5de2caa5",
   "metadata": {},
   "outputs": [],
   "source": [
    "def plot_confusion_matrix(cm, classes,\n",
    "                          normalize=False,\n",
    "                          title='Confusion matrix',\n",
    "                          cmap=plt.cm.Blues):\n",
    "    \"\"\"\n",
    "    This function prints and plots the confusion matrix.\n",
    "    Normalization can be applied by setting `normalize=True`.\n",
    "    \"\"\"\n",
    "    plt.imshow(cm, interpolation='nearest', cmap=cmap)\n",
    "    plt.title(title)\n",
    "    plt.colorbar()\n",
    "    tick_marks = np.arange(len(classes))\n",
    "    plt.xticks(tick_marks, classes, rotation=45)\n",
    "    plt.yticks(tick_marks, classes)\n",
    "\n",
    "    if normalize:\n",
    "        cm = cm.astype('float') / cm.sum(axis=1)[:, np.newaxis]\n",
    "        print(\"Normalized confusion matrix\")\n",
    "    else:\n",
    "        print('Confusion matrix, without normalization')\n",
    "\n",
    "    print(cm)\n",
    "\n",
    "    thresh = cm.max() / 2.\n",
    "    for i, j in itertools.product(range(cm.shape[0]), range(cm.shape[1])):\n",
    "        plt.text(j, i, cm[i, j],\n",
    "                 horizontalalignment=\"center\",\n",
    "                 color=\"white\" if cm[i, j] > thresh else \"black\")\n",
    "\n",
    "    plt.tight_layout()\n",
    "    plt.ylabel('True label')\n",
    "    plt.xlabel('Predicted label')"
   ]
  },
  {
   "cell_type": "code",
   "execution_count": 16,
   "id": "cacd6945",
   "metadata": {},
   "outputs": [
    {
     "name": "stdout",
     "output_type": "stream",
     "text": [
      "Confusion matrix, without normalization\n",
      "[[180  20   0   0]\n",
      " [  3 195   0   2]\n",
      " [  2   4 194   0]\n",
      " [  6   3   0 191]]\n"
     ]
    },
    {
     "data": {
      "image/png": "[encoded data removed]",
      "text/plain": [
       "<Figure size 432x288 with 2 Axes>"
      ]
     },
     "metadata": {
      "needs_background": "light"
     },
     "output_type": "display_data"
    }
   ],
   "source": [
    "cm_plot_labels = ['covid', 'normal','tuberculosis', 'pneumonia']\n",
    "plot_confusion_matrix(cm=cm_VGG, classes=cm_plot_labels, title='Confusion Matrix VGG16')"
   ]
  },
  {
   "cell_type": "code",
   "execution_count": 17,
   "id": "15d96b58",
   "metadata": {},
   "outputs": [],
   "source": [
    "from sklearn.metrics import confusion_matrix, classification_report\n",
    "import seaborn as sns"
   ]
  },
  {
   "cell_type": "code",
   "execution_count": 18,
   "id": "22ef0873",
   "metadata": {},
   "outputs": [
    {
     "name": "stdout",
     "output_type": "stream",
     "text": [
      "              precision    recall  f1-score   support\n",
      "\n",
      "       covid       0.94      0.90      0.92       200\n",
      "      normal       0.88      0.97      0.92       200\n",
      "tuberculosis       1.00      0.97      0.98       200\n",
      "   pneumonia       0.99      0.95      0.97       200\n",
      "\n",
      "    accuracy                           0.95       800\n",
      "   macro avg       0.95      0.95      0.95       800\n",
      "weighted avg       0.95      0.95      0.95       800\n",
      "\n"
     ]
    }
   ],
   "source": [
    "labels = ['covid', 'normal','tuberculosis', 'pneumonia']\n",
    "report_VGG = classification_report(test_dataset_VGG.classes, rounded_predictions_VGG, target_names=labels)\n",
    "print(report_VGG)\n"
   ]
  },
  {
   "cell_type": "code",
   "execution_count": null,
   "id": "f2c3cc24",
   "metadata": {},
   "outputs": [],
   "source": []
  },
  {
   "cell_type": "code",
   "execution_count": 19,
   "id": "7fbdfde4",
   "metadata": {},
   "outputs": [],
   "source": [
    "# create history loss and accuracy function\n",
    "def plot_loss_acc(history):\n",
    "    train_loss = history.history['loss']\n",
    "    val_loss = history.history['val_loss']\n",
    "    acc = history.history['acc']\n",
    "    val_acc = history.history['val_acc']\n",
    "    epochs = range(len(train_loss))\n",
    "\n",
    "    plt.figure(figsize=(8,6))\n",
    "    plt.plot(epochs, train_loss, color='b', label='Train')\n",
    "    plt.plot(epochs, val_loss, color='orange', label='Validation')\n",
    "    plt.legend()\n",
    "    plt.title('Model Loss')\n",
    "    plt.xlabel('Epoch')\n",
    "    plt.ylabel('Loss')\n",
    "    \n",
    "    \n",
    "    plt.figure(figsize=(8,6))\n",
    "    plt.plot(epochs, acc, color='b', label='Train')\n",
    "    plt.plot(epochs, val_acc, color='orange', label='Validation')\n",
    "    plt.legend()\n",
    "    plt.title('Model Accuracy')\n",
    "    plt.xlabel('Epoch')\n",
    "    plt.ylabel('Accuracy')\n",
    "    \n",
    "    plt.show()"
   ]
  },
  {
   "cell_type": "code",
   "execution_count": 20,
   "id": "5f520dcb",
   "metadata": {},
   "outputs": [
    {
     "data": {
      "image/png": "[encoded data removed]",
      "text/plain": [
       "<Figure size 576x432 with 1 Axes>"
      ]
     },
     "metadata": {
      "needs_background": "light"
     },
     "output_type": "display_data"
    },
    {
     "data": {
      "image/png": "[encoded data removed]",
      "text/plain": [
       "<Figure size 576x432 with 1 Axes>"
      ]
     },
     "metadata": {
      "needs_background": "light"
     },
     "output_type": "display_data"
    }
   ],
   "source": [
    "plot_loss_acc(history_VGG)"
   ]
  },
  {
   "cell_type": "code",
   "execution_count": null,
   "id": "6dff15fc",
   "metadata": {},
   "outputs": [],
   "source": []
  }
 ],
 "metadata": {
  "kernelspec": {
   "display_name": "Python 3",
   "language": "python",
   "name": "python3"
  },
  "language_info": {
   "codemirror_mode": {
    "name": "ipython",
    "version": 3
   },
   "file_extension": ".py",
   "mimetype": "text/x-python",
   "name": "python",
   "nbconvert_exporter": "python",
   "pygments_lexer": "ipython3",
   "version": "3.6.12"
  }
 },
 "nbformat": 4,
 "nbformat_minor": 5
}
