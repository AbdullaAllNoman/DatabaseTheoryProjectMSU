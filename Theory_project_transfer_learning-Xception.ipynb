{
 "cells": [
  {
   "cell_type": "code",
   "execution_count": 9,
   "id": "4cafba4b",
   "metadata": {},
   "outputs": [],
   "source": [
    "from tensorflow.keras.preprocessing.image import ImageDataGenerator\n",
    "from tensorflow.keras.preprocessing import image\n",
    "from tensorflow.keras.optimizers import RMSprop\n",
    "import matplotlib.pyplot as plt\n",
    "import tensorflow as tf\n",
    "import numpy as np\n",
    "import cv2\n",
    "import os\n",
    "import sys\n",
    "stderr = sys.stderr\n",
    "sys.stderr = open(os.devnull, 'w')\n",
    "import keras\n",
    "sys.stderr = stderr\n",
    "    \n",
    "import tensorflow as tf\n",
    "\n",
    "\n",
    "from keras.callbacks import TensorBoard, ModelCheckpoint, EarlyStopping, CSVLogger\n",
    "\n",
    "import argparse\n",
    "from keras.models import Model\n",
    "from keras.models import Sequential\n",
    "from keras.layers import Dense, Dropout, Flatten\n",
    "from keras.layers import Conv2D, MaxPooling2D\n",
    "from keras import backend as K\n",
    "from keras.preprocessing.image import ImageDataGenerator\n",
    "from tensorflow.keras.applications import Xception\n",
    "import keras.metrics\n",
    "from tensorflow.keras.optimizers import Adam, RMSprop\n",
    "import numpy as np\n",
    "\n",
    "\n",
    "from sklearn.metrics import classification_report, confusion_matrix\n",
    "from sklearn.datasets import make_classification\n",
    "from sklearn.model_selection import train_test_split\n",
    "from sklearn.metrics import roc_curve\n",
    "\n",
    "from sklearn.metrics import auc\n",
    "from keras.models import Sequential\n",
    "from keras.layers import Dense, Activation, Dropout, Flatten, Conv2D, MaxPooling2D\n",
    "from tensorflow.keras.layers import BatchNormalization\n",
    "\n",
    "from keras.models import Sequential\n",
    "from keras.layers.core import Dense, Dropout, Activation, Flatten\n",
    "from keras.layers.convolutional import Conv2D, MaxPooling2D, ZeroPadding2D\n",
    "from keras.regularizers import l2\n",
    "\n",
    "\n",
    "\n",
    "\n",
    "import numpy, scipy.io\n",
    "#import torch\n",
    "#import torchvision.models as models\n",
    "from keras import models\n",
    "from keras import layers\n",
    "from keras import optimizers\n",
    "from keras.layers.core import Flatten, Dense, Dropout, Lambda\n",
    "import tensorflow as tf\n",
    "from tensorflow.keras.optimizers import SGD\n",
    "from keras.applications.resnet import ResNet50\n",
    "from keras.models import Model\n",
    "import keras"
   ]
  },
  {
   "cell_type": "code",
   "execution_count": 10,
   "id": "59583197",
   "metadata": {},
   "outputs": [],
   "source": [
    "\n",
    "trainVGG = ImageDataGenerator(rescale=1./255,\n",
    "                          rotation_range=0.2,\n",
    "                          shear_range=0.2,\n",
    "                          horizontal_flip=True)\n",
    "testVGG = ImageDataGenerator(rescale = 1./255,\n",
    "                          rotation_range=0.2,\n",
    "                          shear_range=0.2,\n",
    "                          horizontal_flip=True)\n",
    "validationVGG = ImageDataGenerator(rescale = 1./255)"
   ]
  },
  {
   "cell_type": "code",
   "execution_count": 11,
   "id": "2d3099fe",
   "metadata": {},
   "outputs": [
    {
     "name": "stdout",
     "output_type": "stream",
     "text": [
      "Found 3200 images belonging to 4 classes.\n",
      "Found 800 images belonging to 4 classes.\n",
      "Found 1600 images belonging to 4 classes.\n"
     ]
    }
   ],
   "source": [
    "IMAGE_SIZE_VGG = (150, 150)\n",
    "NUM_EPOCHS_VGG = 50\n",
    "BATCH_SIZE_VGG = 32\n",
    "LEARNING_RATE_VGG = 0.001\n",
    "DROP_OUT_VGG = 0.3\n",
    "\n",
    "\n",
    "train_dataset_VGG = trainVGG.flow_from_directory('dataset/Train/',\n",
    "                                         target_size = IMAGE_SIZE_VGG,\n",
    "                                         color_mode='rgb',\n",
    "                                         batch_size = BATCH_SIZE_VGG,\n",
    "                                         class_mode = 'categorical',\n",
    "                                         shuffle=False)\n",
    "\n",
    "test_dataset_VGG = trainVGG.flow_from_directory('dataset/Test/',\n",
    "                                         target_size = IMAGE_SIZE_VGG,\n",
    "                                         color_mode='rgb',\n",
    "                                         batch_size = BATCH_SIZE_VGG,\n",
    "                                         class_mode = 'categorical',\n",
    "                                         shuffle=False)\n",
    "\n",
    "validation_dataset_VGG = trainVGG.flow_from_directory('dataset/Validation/',\n",
    "                                         target_size = IMAGE_SIZE_VGG,\n",
    "                                         color_mode='rgb',\n",
    "                                         batch_size = BATCH_SIZE_VGG,\n",
    "                                         class_mode = 'categorical',\n",
    "                                         shuffle=False)"
   ]
  },
  {
   "cell_type": "code",
   "execution_count": 12,
   "id": "53ec91cb",
   "metadata": {},
   "outputs": [
    {
     "data": {
      "text/plain": [
       "{'covid': 0, 'normal': 1, 'pneumonia': 2, 'tuberculosis': 3}"
      ]
     },
     "execution_count": 12,
     "metadata": {},
     "output_type": "execute_result"
    }
   ],
   "source": [
    "validation_dataset_VGG.class_indices"
   ]
  },
  {
   "cell_type": "code",
   "execution_count": 13,
   "id": "c8fbd80d",
   "metadata": {},
   "outputs": [],
   "source": [
    "STEP_SIZE_TRAIN_VGG=len(train_dataset_VGG)\n",
    "STEP_SIZE_VALID_VGG=len(validation_dataset_VGG)"
   ]
  },
  {
   "cell_type": "code",
   "execution_count": 14,
   "id": "f9c516e3",
   "metadata": {},
   "outputs": [
    {
     "name": "stdout",
     "output_type": "stream",
     "text": [
      "INFO:tensorflow:Assets written to: Xception.model\\assets\n"
     ]
    },
    {
     "name": "stderr",
     "output_type": "stream",
     "text": [
      "C:\\Users\\Hp\\AppData\\Roaming\\Python\\Python36\\site-packages\\keras\\utils\\generic_utils.py:497: CustomMaskWarning: Custom mask layers require a config and must override get_config. When loading, the custom mask layer must be passed to the custom_objects argument.\n",
      "  category=CustomMaskWarning)\n"
     ]
    }
   ],
   "source": [
    "conv_base_VGG = Xception(weights='imagenet', include_top=False, input_shape=(150, 150, 3))\n",
    "conv_base_VGG.trainable = False\n",
    "\n",
    "model_VGG = models.Sequential()\n",
    "model_VGG.add(conv_base_VGG)\n",
    "model_VGG.add(layers.Flatten())\n",
    "model_VGG.add(layers.Dense(128, activation='relu'))\n",
    "model_VGG.add(Dropout(DROP_OUT_VGG))\n",
    "model_VGG.add(layers.Dense(4, activation='softmax'))\n",
    "model_VGG.compile(loss='categorical_crossentropy', optimizer=RMSprop(learning_rate=LEARNING_RATE_VGG), metrics=['acc'])\n",
    "model_VGG.save('Xception.model')"
   ]
  },
  {
   "cell_type": "code",
   "execution_count": 15,
   "id": "523ac4b6",
   "metadata": {},
   "outputs": [],
   "source": [
    "# Define early stopping callback\n",
    "early_stop = EarlyStopping(monitor='val_loss', patience=5, verbose=1, mode='auto')"
   ]
  },
  {
   "cell_type": "code",
   "execution_count": 16,
   "id": "cb670561",
   "metadata": {},
   "outputs": [
    {
     "name": "stdout",
     "output_type": "stream",
     "text": [
      "Model: \"sequential_1\"\n",
      "_________________________________________________________________\n",
      "Layer (type)                 Output Shape              Param #   \n",
      "=================================================================\n",
      "xception (Functional)        (None, 5, 5, 2048)        20861480  \n",
      "_________________________________________________________________\n",
      "flatten_1 (Flatten)          (None, 51200)             0         \n",
      "_________________________________________________________________\n",
      "dense_2 (Dense)              (None, 128)               6553728   \n",
      "_________________________________________________________________\n",
      "dropout_1 (Dropout)          (None, 128)               0         \n",
      "_________________________________________________________________\n",
      "dense_3 (Dense)              (None, 4)                 516       \n",
      "=================================================================\n",
      "Total params: 27,415,724\n",
      "Trainable params: 6,554,244\n",
      "Non-trainable params: 20,861,480\n",
      "_________________________________________________________________\n",
      "None\n"
     ]
    }
   ],
   "source": [
    "print(model_VGG.summary())"
   ]
  },
  {
   "cell_type": "code",
   "execution_count": 17,
   "id": "19086468",
   "metadata": {},
   "outputs": [
    {
     "name": "stdout",
     "output_type": "stream",
     "text": [
      "Epoch 1/50\n",
      "100/100 [==============================] - 164s 2s/step - loss: 9.6003 - acc: 0.5091 - val_loss: 1.3590 - val_acc: 0.6394\n",
      "Epoch 2/50\n",
      "100/100 [==============================] - 164s 2s/step - loss: 1.4665 - acc: 0.5678 - val_loss: 0.7110 - val_acc: 0.6250\n",
      "Epoch 3/50\n",
      "100/100 [==============================] - 166s 2s/step - loss: 1.1228 - acc: 0.5800 - val_loss: 0.8729 - val_acc: 0.6087\n",
      "Epoch 4/50\n",
      "100/100 [==============================] - 163s 2s/step - loss: 0.9532 - acc: 0.6478 - val_loss: 0.6093 - val_acc: 0.7650\n",
      "Epoch 5/50\n",
      "100/100 [==============================] - 164s 2s/step - loss: 0.8254 - acc: 0.7050 - val_loss: 0.6313 - val_acc: 0.7163\n",
      "Epoch 6/50\n",
      "100/100 [==============================] - 162s 2s/step - loss: 0.7171 - acc: 0.7225 - val_loss: 0.4977 - val_acc: 0.7556\n",
      "Epoch 7/50\n",
      "100/100 [==============================] - 162s 2s/step - loss: 0.7550 - acc: 0.7378 - val_loss: 0.3845 - val_acc: 0.8256\n",
      "Epoch 8/50\n",
      "100/100 [==============================] - 165s 2s/step - loss: 0.6262 - acc: 0.7569 - val_loss: 0.3513 - val_acc: 0.8494\n",
      "Epoch 9/50\n",
      "100/100 [==============================] - 177s 2s/step - loss: 0.6665 - acc: 0.7581 - val_loss: 0.3233 - val_acc: 0.8756\n",
      "Epoch 10/50\n",
      "100/100 [==============================] - 176s 2s/step - loss: 0.6987 - acc: 0.7812 - val_loss: 0.3300 - val_acc: 0.8675\n",
      "Epoch 11/50\n",
      "100/100 [==============================] - 176s 2s/step - loss: 0.5485 - acc: 0.7931 - val_loss: 0.2657 - val_acc: 0.9125\n",
      "Epoch 12/50\n",
      "100/100 [==============================] - 171s 2s/step - loss: 0.5322 - acc: 0.8012 - val_loss: 0.3148 - val_acc: 0.8625\n",
      "Epoch 13/50\n",
      "100/100 [==============================] - 171s 2s/step - loss: 0.4980 - acc: 0.7975 - val_loss: 0.3008 - val_acc: 0.8956\n",
      "Epoch 14/50\n",
      "100/100 [==============================] - 171s 2s/step - loss: 0.4922 - acc: 0.8062 - val_loss: 0.2260 - val_acc: 0.9125\n",
      "Epoch 15/50\n",
      "100/100 [==============================] - 172s 2s/step - loss: 0.4406 - acc: 0.8269 - val_loss: 0.2543 - val_acc: 0.9200\n",
      "Epoch 16/50\n",
      "100/100 [==============================] - 173s 2s/step - loss: 0.4606 - acc: 0.8406 - val_loss: 0.2169 - val_acc: 0.9175\n",
      "Epoch 17/50\n",
      "100/100 [==============================] - 168s 2s/step - loss: 0.4673 - acc: 0.8384 - val_loss: 0.2276 - val_acc: 0.9256\n",
      "Epoch 18/50\n",
      "100/100 [==============================] - 161s 2s/step - loss: 0.4350 - acc: 0.8413 - val_loss: 0.3941 - val_acc: 0.8444\n",
      "Epoch 19/50\n",
      "100/100 [==============================] - 165s 2s/step - loss: 0.4261 - acc: 0.8366 - val_loss: 0.4295 - val_acc: 0.8675\n",
      "Epoch 20/50\n",
      "100/100 [==============================] - 168s 2s/step - loss: 0.4469 - acc: 0.8319 - val_loss: 0.2163 - val_acc: 0.9219\n",
      "Epoch 21/50\n",
      "100/100 [==============================] - 163s 2s/step - loss: 0.4085 - acc: 0.8547 - val_loss: 0.3457 - val_acc: 0.8894\n",
      "Epoch 22/50\n",
      "100/100 [==============================] - 161s 2s/step - loss: 0.4542 - acc: 0.8506 - val_loss: 0.1952 - val_acc: 0.9219\n",
      "Epoch 23/50\n",
      "100/100 [==============================] - 175s 2s/step - loss: 0.4062 - acc: 0.8622 - val_loss: 0.5311 - val_acc: 0.8388\n",
      "Epoch 24/50\n",
      "100/100 [==============================] - 175s 2s/step - loss: 0.3577 - acc: 0.8719 - val_loss: 0.1625 - val_acc: 0.9331\n",
      "Epoch 25/50\n",
      "100/100 [==============================] - 174s 2s/step - loss: 0.3610 - acc: 0.8728 - val_loss: 0.4719 - val_acc: 0.8619\n",
      "Epoch 26/50\n",
      "100/100 [==============================] - 174s 2s/step - loss: 0.4001 - acc: 0.8728 - val_loss: 0.1501 - val_acc: 0.9362\n",
      "Epoch 27/50\n",
      "100/100 [==============================] - 178s 2s/step - loss: 0.3399 - acc: 0.8734 - val_loss: 0.1713 - val_acc: 0.9300\n",
      "Epoch 28/50\n",
      "100/100 [==============================] - 172s 2s/step - loss: 0.3369 - acc: 0.8734 - val_loss: 0.2162 - val_acc: 0.9287\n",
      "Epoch 29/50\n",
      "100/100 [==============================] - 173s 2s/step - loss: 0.3306 - acc: 0.8747 - val_loss: 0.1653 - val_acc: 0.9450\n",
      "Epoch 30/50\n",
      "100/100 [==============================] - 166s 2s/step - loss: 0.3402 - acc: 0.8819 - val_loss: 0.1432 - val_acc: 0.9388\n",
      "Epoch 31/50\n",
      "100/100 [==============================] - 161s 2s/step - loss: 0.3650 - acc: 0.8788 - val_loss: 0.1547 - val_acc: 0.9519\n",
      "Epoch 32/50\n",
      "100/100 [==============================] - 162s 2s/step - loss: 0.3206 - acc: 0.8825 - val_loss: 0.1816 - val_acc: 0.9250\n",
      "Epoch 33/50\n",
      "100/100 [==============================] - 161s 2s/step - loss: 0.3261 - acc: 0.8934 - val_loss: 0.2129 - val_acc: 0.9250\n",
      "Epoch 34/50\n",
      "100/100 [==============================] - 161s 2s/step - loss: 0.2998 - acc: 0.8913 - val_loss: 0.1178 - val_acc: 0.9600\n",
      "Epoch 35/50\n",
      "100/100 [==============================] - 161s 2s/step - loss: 0.2945 - acc: 0.9003 - val_loss: 0.4413 - val_acc: 0.8725\n",
      "Epoch 36/50\n",
      "100/100 [==============================] - 161s 2s/step - loss: 0.3087 - acc: 0.8838 - val_loss: 0.1192 - val_acc: 0.9500\n",
      "Epoch 37/50\n",
      "100/100 [==============================] - 161s 2s/step - loss: 0.2909 - acc: 0.8956 - val_loss: 0.1323 - val_acc: 0.9413\n",
      "Epoch 38/50\n",
      "100/100 [==============================] - 169s 2s/step - loss: 0.2718 - acc: 0.8963 - val_loss: 0.1918 - val_acc: 0.9262\n",
      "Epoch 39/50\n",
      "100/100 [==============================] - 174s 2s/step - loss: 0.2984 - acc: 0.8903 - val_loss: 0.0894 - val_acc: 0.9650\n",
      "Epoch 40/50\n",
      "100/100 [==============================] - 163s 2s/step - loss: 0.2783 - acc: 0.9044 - val_loss: 0.3946 - val_acc: 0.9112\n",
      "Epoch 41/50\n",
      "100/100 [==============================] - 165s 2s/step - loss: 0.2947 - acc: 0.9028 - val_loss: 0.1532 - val_acc: 0.9494\n",
      "Epoch 42/50\n",
      "100/100 [==============================] - 172s 2s/step - loss: 0.2570 - acc: 0.9038 - val_loss: 0.1103 - val_acc: 0.9563\n",
      "Epoch 43/50\n",
      "100/100 [==============================] - 167s 2s/step - loss: 0.2993 - acc: 0.8981 - val_loss: 0.1139 - val_acc: 0.9513\n",
      "Epoch 44/50\n",
      "100/100 [==============================] - 165s 2s/step - loss: 0.2397 - acc: 0.9078 - val_loss: 0.1306 - val_acc: 0.9500\n",
      "Epoch 00044: early stopping\n"
     ]
    }
   ],
   "source": [
    "from keras.callbacks import CSVLogger\n",
    "csv_VGG19 = CSVLogger('trainingXception.log', separator=',', append=False)\n",
    "\n",
    "history_VGG=model_VGG.fit(train_dataset_VGG,\n",
    " steps_per_epoch =STEP_SIZE_TRAIN_VGG,\n",
    " validation_data = validation_dataset_VGG,\n",
    " validation_steps = STEP_SIZE_VALID_VGG,\n",
    " epochs= NUM_EPOCHS_VGG,\n",
    " callbacks=[early_stop]\n",
    " )"
   ]
  },
  {
   "cell_type": "code",
   "execution_count": 18,
   "id": "9ac64689",
   "metadata": {},
   "outputs": [
    {
     "name": "stdout",
     "output_type": "stream",
     "text": [
      "25/25 [==============================] - 27s 1s/step - loss: 0.6969 - acc: 0.8888\n"
     ]
    },
    {
     "data": {
      "text/plain": [
       "[0.69694983959198, 0.8887500166893005]"
      ]
     },
     "execution_count": 18,
     "metadata": {},
     "output_type": "execute_result"
    }
   ],
   "source": [
    "model_VGG.evaluate(test_dataset_VGG)"
   ]
  },
  {
   "cell_type": "code",
   "execution_count": 19,
   "id": "95f89d0b",
   "metadata": {},
   "outputs": [],
   "source": [
    "predictions_VGG = model_VGG.predict(x=test_dataset_VGG, verbose=0)"
   ]
  },
  {
   "cell_type": "code",
   "execution_count": 20,
   "id": "a4b6aa0a",
   "metadata": {},
   "outputs": [],
   "source": [
    "rounded_predictions_VGG = np.argmax(predictions_VGG, axis=-1)"
   ]
  },
  {
   "cell_type": "code",
   "execution_count": null,
   "id": "7f4ca7dd",
   "metadata": {},
   "outputs": [],
   "source": []
  },
  {
   "cell_type": "code",
   "execution_count": 21,
   "id": "539dd6c0",
   "metadata": {},
   "outputs": [],
   "source": [
    "%matplotlib inline\n",
    "from sklearn.metrics import confusion_matrix\n",
    "import itertools\n",
    "import matplotlib.pyplot as plt"
   ]
  },
  {
   "cell_type": "code",
   "execution_count": 22,
   "id": "f2beadab",
   "metadata": {},
   "outputs": [],
   "source": [
    "cm_VGG = confusion_matrix(y_true=test_dataset_VGG.classes, y_pred=rounded_predictions_VGG)"
   ]
  },
  {
   "cell_type": "code",
   "execution_count": 23,
   "id": "5de2caa5",
   "metadata": {},
   "outputs": [],
   "source": [
    "def plot_confusion_matrix(cm, classes,\n",
    "                          normalize=False,\n",
    "                          title='Confusion matrix',\n",
    "                          cmap=plt.cm.Blues):\n",
    "    \"\"\"\n",
    "    This function prints and plots the confusion matrix.\n",
    "    Normalization can be applied by setting `normalize=True`.\n",
    "    \"\"\"\n",
    "    plt.imshow(cm, interpolation='nearest', cmap=cmap)\n",
    "    plt.title(title)\n",
    "    plt.colorbar()\n",
    "    tick_marks = np.arange(len(classes))\n",
    "    plt.xticks(tick_marks, classes, rotation=45)\n",
    "    plt.yticks(tick_marks, classes)\n",
    "\n",
    "    if normalize:\n",
    "        cm = cm.astype('float') / cm.sum(axis=1)[:, np.newaxis]\n",
    "        print(\"Normalized confusion matrix\")\n",
    "    else:\n",
    "        print('Confusion matrix, without normalization')\n",
    "\n",
    "    print(cm)\n",
    "\n",
    "    thresh = cm.max() / 2.\n",
    "    for i, j in itertools.product(range(cm.shape[0]), range(cm.shape[1])):\n",
    "        plt.text(j, i, cm[i, j],\n",
    "                 horizontalalignment=\"center\",\n",
    "                 color=\"white\" if cm[i, j] > thresh else \"black\")\n",
    "\n",
    "    plt.tight_layout()\n",
    "    plt.ylabel('True label')\n",
    "    plt.xlabel('Predicted label')"
   ]
  },
  {
   "cell_type": "code",
   "execution_count": 24,
   "id": "cacd6945",
   "metadata": {},
   "outputs": [
    {
     "name": "stdout",
     "output_type": "stream",
     "text": [
      "Confusion matrix, without normalization\n",
      "[[163  33   1   3]\n",
      " [ 19 174   0   7]\n",
      " [  6   1 192   1]\n",
      " [ 13   7   1 179]]\n"
     ]
    },
    {
     "data": {
      "image/png": "[encoded data removed]",
      "text/plain": [
       "<Figure size 432x288 with 2 Axes>"
      ]
     },
     "metadata": {
      "needs_background": "light"
     },
     "output_type": "display_data"
    }
   ],
   "source": [
    "cm_plot_labels = ['covid', 'normal','tuberculosis', 'pneumonia']\n",
    "plot_confusion_matrix(cm=cm_VGG, classes=cm_plot_labels, title='Confusion Matrix VGG16')"
   ]
  },
  {
   "cell_type": "code",
   "execution_count": 25,
   "id": "15d96b58",
   "metadata": {},
   "outputs": [],
   "source": [
    "from sklearn.metrics import confusion_matrix, classification_report\n",
    "import seaborn as sns"
   ]
  },
  {
   "cell_type": "code",
   "execution_count": 26,
   "id": "22ef0873",
   "metadata": {},
   "outputs": [
    {
     "name": "stdout",
     "output_type": "stream",
     "text": [
      "              precision    recall  f1-score   support\n",
      "\n",
      "       covid       0.81      0.81      0.81       200\n",
      "      normal       0.81      0.87      0.84       200\n",
      "tuberculosis       0.99      0.96      0.97       200\n",
      "   pneumonia       0.94      0.90      0.92       200\n",
      "\n",
      "    accuracy                           0.89       800\n",
      "   macro avg       0.89      0.89      0.89       800\n",
      "weighted avg       0.89      0.89      0.89       800\n",
      "\n"
     ]
    }
   ],
   "source": [
    "labels = ['covid', 'normal','tuberculosis', 'pneumonia']\n",
    "report_VGG = classification_report(test_dataset_VGG.classes, rounded_predictions_VGG, target_names=labels)\n",
    "print(report_VGG)\n"
   ]
  },
  {
   "cell_type": "code",
   "execution_count": null,
   "id": "f2c3cc24",
   "metadata": {},
   "outputs": [],
   "source": []
  },
  {
   "cell_type": "code",
   "execution_count": 27,
   "id": "7fbdfde4",
   "metadata": {},
   "outputs": [],
   "source": [
    "# create history loss and accuracy function\n",
    "def plot_loss_acc(history):\n",
    "    train_loss = history.history['loss']\n",
    "    val_loss = history.history['val_loss']\n",
    "    acc = history.history['acc']\n",
    "    val_acc = history.history['val_acc']\n",
    "    epochs = range(len(train_loss))\n",
    "\n",
    "    plt.figure(figsize=(8,6))\n",
    "    plt.plot(epochs, train_loss, color='b', label='Train')\n",
    "    plt.plot(epochs, val_loss, color='orange', label='Validation')\n",
    "    plt.legend()\n",
    "    plt.title('Model Loss')\n",
    "    plt.xlabel('Epoch')\n",
    "    plt.ylabel('Loss')\n",
    "    \n",
    "    \n",
    "    plt.figure(figsize=(8,6))\n",
    "    plt.plot(epochs, acc, color='b', label='Train')\n",
    "    plt.plot(epochs, val_acc, color='orange', label='Validation')\n",
    "    plt.legend()\n",
    "    plt.title('Model Accuracy')\n",
    "    plt.xlabel('Epoch')\n",
    "    plt.ylabel('Accuracy')\n",
    "    \n",
    "    plt.show()"
   ]
  },
  {
   "cell_type": "code",
   "execution_count": 28,
   "id": "3f5e8a44",
   "metadata": {},
   "outputs": [
    {
     "data": {
      "image/png": "[encoded data removed]",
      "text/plain": [
       "<Figure size 576x432 with 1 Axes>"
      ]
     },
     "metadata": {
      "needs_background": "light"
     },
     "output_type": "display_data"
    },
    {
     "data": {
      "image/png": "[encoded data removed]",
      "text/plain": [
       "<Figure size 576x432 with 1 Axes>"
      ]
     },
     "metadata": {
      "needs_background": "light"
     },
     "output_type": "display_data"
    }
   ],
   "source": [
    "plot_loss_acc(history_VGG)"
   ]
  },
  {
   "cell_type": "code",
   "execution_count": null,
   "id": "9086a3ac",
   "metadata": {},
   "outputs": [],
   "source": []
  },
  {
   "cell_type": "code",
   "execution_count": null,
   "id": "435c9ddf",
   "metadata": {},
   "outputs": [],
   "source": []
  }
 ],
 "metadata": {
  "kernelspec": {
   "display_name": "Python 3",
   "language": "python",
   "name": "python3"
  },
  "language_info": {
   "codemirror_mode": {
    "name": "ipython",
    "version": 3
   },
   "file_extension": ".py",
   "mimetype": "text/x-python",
   "name": "python",
   "nbconvert_exporter": "python",
   "pygments_lexer": "ipython3",
   "version": "3.6.12"
  }
 },
 "nbformat": 4,
 "nbformat_minor": 5
}
