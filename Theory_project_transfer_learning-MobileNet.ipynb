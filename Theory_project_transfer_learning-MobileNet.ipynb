{
 "cells": [
  {
   "cell_type": "code",
   "execution_count": 1,
   "id": "4cafba4b",
   "metadata": {},
   "outputs": [],
   "source": [
    "from tensorflow.keras.preprocessing.image import ImageDataGenerator\n",
    "from tensorflow.keras.preprocessing import image\n",
    "from tensorflow.keras.optimizers import RMSprop\n",
    "import matplotlib.pyplot as plt\n",
    "import tensorflow as tf\n",
    "import numpy as np\n",
    "import cv2\n",
    "import os\n",
    "import sys\n",
    "stderr = sys.stderr\n",
    "sys.stderr = open(os.devnull, 'w')\n",
    "import keras\n",
    "sys.stderr = stderr\n",
    "    \n",
    "import tensorflow as tf\n",
    "\n",
    "\n",
    "from keras.callbacks import TensorBoard, ModelCheckpoint, EarlyStopping, CSVLogger\n",
    "\n",
    "import argparse\n",
    "from keras.models import Model\n",
    "from keras.models import Sequential\n",
    "from keras.layers import Dense, Dropout, Flatten\n",
    "from keras.layers import Conv2D, MaxPooling2D\n",
    "from keras import backend as K\n",
    "from keras.preprocessing.image import ImageDataGenerator\n",
    "\n",
    "\n",
    "from tensorflow.keras.applications import MobileNet\n",
    "\n",
    "\n",
    "\n",
    "import keras.metrics\n",
    "\n",
    "from tensorflow.keras.optimizers import Adam, RMSprop\n",
    "import numpy as np\n",
    "\n",
    "\n",
    "from sklearn.metrics import classification_report, confusion_matrix\n",
    "from sklearn.datasets import make_classification\n",
    "from sklearn.model_selection import train_test_split\n",
    "from sklearn.metrics import roc_curve\n",
    "\n",
    "from sklearn.metrics import auc\n",
    "from keras.models import Sequential\n",
    "from keras.layers import Dense, Activation, Dropout, Flatten, Conv2D, MaxPooling2D\n",
    "from tensorflow.keras.layers import BatchNormalization\n",
    "\n",
    "from keras.models import Sequential\n",
    "from keras.layers.core import Dense, Dropout, Activation, Flatten\n",
    "from keras.layers.convolutional import Conv2D, MaxPooling2D, ZeroPadding2D\n",
    "from keras.regularizers import l2\n",
    "\n",
    "\n",
    "\n",
    "\n",
    "import numpy, scipy.io\n",
    "#import torch\n",
    "#import torchvision.models as models\n",
    "from keras import models\n",
    "from keras import layers\n",
    "from keras import optimizers\n",
    "from keras.layers.core import Flatten, Dense, Dropout, Lambda\n",
    "import tensorflow as tf\n",
    "from tensorflow.keras.optimizers import SGD\n",
    "from keras.applications.resnet import ResNet50\n",
    "from keras.models import Model\n",
    "import keras"
   ]
  },
  {
   "cell_type": "code",
   "execution_count": 2,
   "id": "59583197",
   "metadata": {},
   "outputs": [],
   "source": [
    "\n",
    "trainVGG = ImageDataGenerator(rescale=1./255,\n",
    "                          rotation_range=0.2,\n",
    "                          shear_range=0.2,\n",
    "                          horizontal_flip=True)\n",
    "testVGG = ImageDataGenerator(rescale = 1./255,\n",
    "                          rotation_range=0.2,\n",
    "                          shear_range=0.2,\n",
    "                          horizontal_flip=True)\n",
    "validationVGG = ImageDataGenerator(rescale = 1./255)"
   ]
  },
  {
   "cell_type": "code",
   "execution_count": 3,
   "id": "2d3099fe",
   "metadata": {},
   "outputs": [
    {
     "name": "stdout",
     "output_type": "stream",
     "text": [
      "Found 3200 images belonging to 4 classes.\n",
      "Found 800 images belonging to 4 classes.\n",
      "Found 1600 images belonging to 4 classes.\n"
     ]
    }
   ],
   "source": [
    "IMAGE_SIZE_VGG = (150, 150)\n",
    "NUM_EPOCHS_VGG = 50\n",
    "BATCH_SIZE_VGG = 32\n",
    "LEARNING_RATE_VGG = 0.001\n",
    "DROP_OUT_VGG = 0.3\n",
    "\n",
    "\n",
    "train_dataset_VGG = trainVGG.flow_from_directory('dataset/Train/',\n",
    "                                         target_size = IMAGE_SIZE_VGG,\n",
    "                                         color_mode='rgb',\n",
    "                                         batch_size = BATCH_SIZE_VGG,\n",
    "                                         class_mode = 'categorical',\n",
    "                                         shuffle=False)\n",
    "\n",
    "test_dataset_VGG = trainVGG.flow_from_directory('dataset/Test/',\n",
    "                                         target_size = IMAGE_SIZE_VGG,\n",
    "                                         color_mode='rgb',\n",
    "                                         batch_size = BATCH_SIZE_VGG,\n",
    "                                         class_mode = 'categorical',\n",
    "                                         shuffle=False)\n",
    "\n",
    "validation_dataset_VGG = trainVGG.flow_from_directory('dataset/Validation/',\n",
    "                                         target_size = IMAGE_SIZE_VGG,\n",
    "                                         color_mode='rgb',\n",
    "                                         batch_size = BATCH_SIZE_VGG,\n",
    "                                         class_mode = 'categorical',\n",
    "                                         shuffle=False)"
   ]
  },
  {
   "cell_type": "code",
   "execution_count": 4,
   "id": "53ec91cb",
   "metadata": {},
   "outputs": [
    {
     "data": {
      "text/plain": [
       "{'covid': 0, 'normal': 1, 'pneumonia': 2, 'tuberculosis': 3}"
      ]
     },
     "execution_count": 4,
     "metadata": {},
     "output_type": "execute_result"
    }
   ],
   "source": [
    "validation_dataset_VGG.class_indices"
   ]
  },
  {
   "cell_type": "code",
   "execution_count": 5,
   "id": "c8fbd80d",
   "metadata": {},
   "outputs": [],
   "source": [
    "STEP_SIZE_TRAIN_VGG=len(train_dataset_VGG)\n",
    "STEP_SIZE_VALID_VGG=len(validation_dataset_VGG)"
   ]
  },
  {
   "cell_type": "code",
   "execution_count": 6,
   "id": "f9c516e3",
   "metadata": {},
   "outputs": [
    {
     "name": "stdout",
     "output_type": "stream",
     "text": [
      "WARNING:tensorflow:`input_shape` is undefined or non-square, or `rows` is not in [128, 160, 192, 224]. Weights for input shape (224, 224) will be loaded as the default.\n"
     ]
    },
    {
     "name": "stderr",
     "output_type": "stream",
     "text": [
      "WARNING:absl:Function `_wrapped_model` contains input name(s) mobilenet_1.00_224_input with unsupported characters which will be renamed to mobilenet_1_00_224_input in the SavedModel.\n"
     ]
    },
    {
     "name": "stdout",
     "output_type": "stream",
     "text": [
      "INFO:tensorflow:Assets written to: MobileNet.model\\assets\n"
     ]
    },
    {
     "name": "stderr",
     "output_type": "stream",
     "text": [
      "INFO:tensorflow:Assets written to: MobileNet.model\\assets\n"
     ]
    }
   ],
   "source": [
    "conv_base_VGG = MobileNet(weights='imagenet', include_top=False, input_shape=(150, 150, 3))\n",
    "conv_base_VGG.trainable = False\n",
    "\n",
    "model_VGG = models.Sequential()\n",
    "model_VGG.add(conv_base_VGG)\n",
    "model_VGG.add(layers.Flatten())\n",
    "model_VGG.add(layers.Dense(128, activation='relu'))\n",
    "model_VGG.add(Dropout(DROP_OUT_VGG))\n",
    "model_VGG.add(layers.Dense(4, activation='softmax'))\n",
    "model_VGG.compile(loss='categorical_crossentropy', optimizer=RMSprop(learning_rate=LEARNING_RATE_VGG), metrics=['acc'])\n",
    "model_VGG.save('MobileNet.model')"
   ]
  },
  {
   "cell_type": "code",
   "execution_count": 7,
   "id": "153005aa",
   "metadata": {},
   "outputs": [],
   "source": [
    "# Define early stopping callback\n",
    "early_stop = EarlyStopping(monitor='val_loss', patience=5, verbose=1, mode='auto')"
   ]
  },
  {
   "cell_type": "code",
   "execution_count": 8,
   "id": "cb670561",
   "metadata": {},
   "outputs": [
    {
     "name": "stdout",
     "output_type": "stream",
     "text": [
      "Model: \"sequential\"\n",
      "_________________________________________________________________\n",
      "Layer (type)                 Output Shape              Param #   \n",
      "=================================================================\n",
      "mobilenet_1.00_224 (Function (None, 4, 4, 1024)        3228864   \n",
      "_________________________________________________________________\n",
      "flatten (Flatten)            (None, 16384)             0         \n",
      "_________________________________________________________________\n",
      "dense (Dense)                (None, 128)               2097280   \n",
      "_________________________________________________________________\n",
      "dropout (Dropout)            (None, 128)               0         \n",
      "_________________________________________________________________\n",
      "dense_1 (Dense)              (None, 4)                 516       \n",
      "=================================================================\n",
      "Total params: 5,326,660\n",
      "Trainable params: 2,097,796\n",
      "Non-trainable params: 3,228,864\n",
      "_________________________________________________________________\n",
      "None\n"
     ]
    }
   ],
   "source": [
    "print(model_VGG.summary())"
   ]
  },
  {
   "cell_type": "code",
   "execution_count": 9,
   "id": "19086468",
   "metadata": {},
   "outputs": [
    {
     "name": "stdout",
     "output_type": "stream",
     "text": [
      "Epoch 1/50\n",
      "100/100 [==============================] - 105s 1s/step - loss: 6.1889 - acc: 0.5197 - val_loss: 0.4936 - val_acc: 0.8319\n",
      "Epoch 2/50\n",
      "100/100 [==============================] - 89s 891ms/step - loss: 1.0584 - acc: 0.7056 - val_loss: 0.4021 - val_acc: 0.8388\n",
      "Epoch 3/50\n",
      "100/100 [==============================] - 90s 904ms/step - loss: 0.7522 - acc: 0.7691 - val_loss: 0.2646 - val_acc: 0.8956\n",
      "Epoch 4/50\n",
      "100/100 [==============================] - 90s 877ms/step - loss: 0.5833 - acc: 0.7959 - val_loss: 0.3233 - val_acc: 0.8769\n",
      "Epoch 5/50\n",
      "100/100 [==============================] - 89s 895ms/step - loss: 0.5874 - acc: 0.8066 - val_loss: 0.6245 - val_acc: 0.8531\n",
      "Epoch 6/50\n",
      "100/100 [==============================] - 90s 898ms/step - loss: 0.4949 - acc: 0.8238 - val_loss: 0.1588 - val_acc: 0.9531\n",
      "Epoch 7/50\n",
      "100/100 [==============================] - 90s 899ms/step - loss: 0.4132 - acc: 0.8359 - val_loss: 0.1830 - val_acc: 0.9350\n",
      "Epoch 8/50\n",
      "100/100 [==============================] - 89s 897ms/step - loss: 0.3769 - acc: 0.8594 - val_loss: 0.1280 - val_acc: 0.9463\n",
      "Epoch 9/50\n",
      "100/100 [==============================] - 89s 896ms/step - loss: 0.3585 - acc: 0.8616 - val_loss: 0.1277 - val_acc: 0.9538\n",
      "Epoch 10/50\n",
      "100/100 [==============================] - 89s 894ms/step - loss: 0.4115 - acc: 0.8772 - val_loss: 0.1047 - val_acc: 0.9594\n",
      "Epoch 11/50\n",
      "100/100 [==============================] - 89s 894ms/step - loss: 0.3200 - acc: 0.8934 - val_loss: 0.1486 - val_acc: 0.9406\n",
      "Epoch 12/50\n",
      "100/100 [==============================] - 89s 894ms/step - loss: 0.3296 - acc: 0.8934 - val_loss: 0.0913 - val_acc: 0.9631\n",
      "Epoch 13/50\n",
      "100/100 [==============================] - 89s 888ms/step - loss: 0.3240 - acc: 0.8994 - val_loss: 0.2959 - val_acc: 0.9081\n",
      "Epoch 14/50\n",
      "100/100 [==============================] - 89s 897ms/step - loss: 0.2867 - acc: 0.9100 - val_loss: 0.1480 - val_acc: 0.9431\n",
      "Epoch 15/50\n",
      "100/100 [==============================] - 89s 896ms/step - loss: 0.2558 - acc: 0.9169 - val_loss: 0.0750 - val_acc: 0.9681\n",
      "Epoch 16/50\n",
      "100/100 [==============================] - 89s 892ms/step - loss: 0.3045 - acc: 0.9072 - val_loss: 0.0661 - val_acc: 0.9762\n",
      "Epoch 17/50\n",
      "100/100 [==============================] - 90s 901ms/step - loss: 0.2317 - acc: 0.9216 - val_loss: 0.0902 - val_acc: 0.9731\n",
      "Epoch 18/50\n",
      "100/100 [==============================] - 89s 870ms/step - loss: 0.2338 - acc: 0.9269 - val_loss: 0.0572 - val_acc: 0.9831\n",
      "Epoch 19/50\n",
      "100/100 [==============================] - 90s 904ms/step - loss: 0.2052 - acc: 0.9337 - val_loss: 0.1043 - val_acc: 0.9644\n",
      "Epoch 20/50\n",
      "100/100 [==============================] - 90s 904ms/step - loss: 0.2199 - acc: 0.9375 - val_loss: 0.0369 - val_acc: 0.9862\n",
      "Epoch 21/50\n",
      "100/100 [==============================] - 90s 904ms/step - loss: 0.1867 - acc: 0.9378 - val_loss: 0.0557 - val_acc: 0.9831\n",
      "Epoch 22/50\n",
      "100/100 [==============================] - 89s 897ms/step - loss: 0.1856 - acc: 0.9388 - val_loss: 0.0439 - val_acc: 0.9875\n",
      "Epoch 23/50\n",
      "100/100 [==============================] - 90s 899ms/step - loss: 0.1886 - acc: 0.9419 - val_loss: 0.0629 - val_acc: 0.9706\n",
      "Epoch 24/50\n",
      "100/100 [==============================] - 89s 895ms/step - loss: 0.2153 - acc: 0.9347 - val_loss: 0.0497 - val_acc: 0.9769\n",
      "Epoch 25/50\n",
      "100/100 [==============================] - 89s 894ms/step - loss: 0.1928 - acc: 0.9428 - val_loss: 0.0200 - val_acc: 0.9925\n",
      "Epoch 26/50\n",
      "100/100 [==============================] - 89s 892ms/step - loss: 0.1681 - acc: 0.9481 - val_loss: 0.0390 - val_acc: 0.9850\n",
      "Epoch 27/50\n",
      "100/100 [==============================] - 89s 894ms/step - loss: 0.1766 - acc: 0.9516 - val_loss: 0.0258 - val_acc: 0.9919\n",
      "Epoch 28/50\n",
      "100/100 [==============================] - 89s 893ms/step - loss: 0.1572 - acc: 0.9453 - val_loss: 0.0283 - val_acc: 0.9881\n",
      "Epoch 29/50\n",
      "100/100 [==============================] - 89s 895ms/step - loss: 0.1319 - acc: 0.9509 - val_loss: 0.0354 - val_acc: 0.9862\n",
      "Epoch 30/50\n",
      "100/100 [==============================] - 90s 883ms/step - loss: 0.1645 - acc: 0.9469 - val_loss: 0.0208 - val_acc: 0.9969\n",
      "Epoch 00030: early stopping\n"
     ]
    }
   ],
   "source": [
    "from keras.callbacks import CSVLogger\n",
    "csv_VGG19 = CSVLogger('trainingMobileNet.log', separator=',', append=False)\n",
    "\n",
    "history_VGG=model_VGG.fit(train_dataset_VGG,\n",
    " steps_per_epoch =STEP_SIZE_TRAIN_VGG,\n",
    " validation_data = validation_dataset_VGG,\n",
    " validation_steps = STEP_SIZE_VALID_VGG,\n",
    " epochs= NUM_EPOCHS_VGG,\n",
    " callbacks=[early_stop]\n",
    " )"
   ]
  },
  {
   "cell_type": "code",
   "execution_count": 10,
   "id": "9ac64689",
   "metadata": {},
   "outputs": [
    {
     "name": "stdout",
     "output_type": "stream",
     "text": [
      "25/25 [==============================] - 16s 631ms/step - loss: 0.5084 - acc: 0.9438\n"
     ]
    },
    {
     "data": {
      "text/plain": [
       "[0.5084111094474792, 0.9437500238418579]"
      ]
     },
     "execution_count": 10,
     "metadata": {},
     "output_type": "execute_result"
    }
   ],
   "source": [
    "model_VGG.evaluate(test_dataset_VGG)"
   ]
  },
  {
   "cell_type": "code",
   "execution_count": 11,
   "id": "95f89d0b",
   "metadata": {},
   "outputs": [],
   "source": [
    "predictions_VGG = model_VGG.predict(x=test_dataset_VGG, verbose=0)"
   ]
  },
  {
   "cell_type": "code",
   "execution_count": 12,
   "id": "a4b6aa0a",
   "metadata": {},
   "outputs": [],
   "source": [
    "rounded_predictions_VGG = np.argmax(predictions_VGG, axis=-1)"
   ]
  },
  {
   "cell_type": "code",
   "execution_count": null,
   "id": "7f4ca7dd",
   "metadata": {},
   "outputs": [],
   "source": []
  },
  {
   "cell_type": "code",
   "execution_count": 13,
   "id": "539dd6c0",
   "metadata": {},
   "outputs": [],
   "source": [
    "%matplotlib inline\n",
    "from sklearn.metrics import confusion_matrix\n",
    "import itertools\n",
    "import matplotlib.pyplot as plt"
   ]
  },
  {
   "cell_type": "code",
   "execution_count": 14,
   "id": "f2beadab",
   "metadata": {},
   "outputs": [],
   "source": [
    "cm_VGG = confusion_matrix(y_true=test_dataset_VGG.classes, y_pred=rounded_predictions_VGG)"
   ]
  },
  {
   "cell_type": "code",
   "execution_count": 15,
   "id": "5de2caa5",
   "metadata": {},
   "outputs": [],
   "source": [
    "def plot_confusion_matrix(cm, classes,\n",
    "                          normalize=False,\n",
    "                          title='Confusion matrix',\n",
    "                          cmap=plt.cm.Blues):\n",
    "    \"\"\"\n",
    "    This function prints and plots the confusion matrix.\n",
    "    Normalization can be applied by setting `normalize=True`.\n",
    "    \"\"\"\n",
    "    plt.imshow(cm, interpolation='nearest', cmap=cmap)\n",
    "    plt.title(title)\n",
    "    plt.colorbar()\n",
    "    tick_marks = np.arange(len(classes))\n",
    "    plt.xticks(tick_marks, classes, rotation=45)\n",
    "    plt.yticks(tick_marks, classes)\n",
    "\n",
    "    if normalize:\n",
    "        cm = cm.astype('float') / cm.sum(axis=1)[:, np.newaxis]\n",
    "        print(\"Normalized confusion matrix\")\n",
    "    else:\n",
    "        print('Confusion matrix, without normalization')\n",
    "\n",
    "    print(cm)\n",
    "\n",
    "    thresh = cm.max() / 2.\n",
    "    for i, j in itertools.product(range(cm.shape[0]), range(cm.shape[1])):\n",
    "        plt.text(j, i, cm[i, j],\n",
    "                 horizontalalignment=\"center\",\n",
    "                 color=\"white\" if cm[i, j] > thresh else \"black\")\n",
    "\n",
    "    plt.tight_layout()\n",
    "    plt.ylabel('True label')\n",
    "    plt.xlabel('Predicted label')"
   ]
  },
  {
   "cell_type": "code",
   "execution_count": 16,
   "id": "cacd6945",
   "metadata": {},
   "outputs": [
    {
     "name": "stdout",
     "output_type": "stream",
     "text": [
      "Confusion matrix, without normalization\n",
      "[[177  18   1   4]\n",
      " [  5 188   0   7]\n",
      " [  3   1 194   2]\n",
      " [  5   1   0 194]]\n"
     ]
    },
    {
     "data": {
      "image/png": "[encoded data removed]",
      "text/plain": [
       "<Figure size 432x288 with 2 Axes>"
      ]
     },
     "metadata": {
      "needs_background": "light"
     },
     "output_type": "display_data"
    }
   ],
   "source": [
    "cm_plot_labels = ['covid', 'normal','tuberculosis', 'pneumonia']\n",
    "plot_confusion_matrix(cm=cm_VGG, classes=cm_plot_labels, title='Confusion Matrix VGG16')"
   ]
  },
  {
   "cell_type": "code",
   "execution_count": 17,
   "id": "15d96b58",
   "metadata": {},
   "outputs": [],
   "source": [
    "from sklearn.metrics import confusion_matrix, classification_report\n",
    "import seaborn as sns"
   ]
  },
  {
   "cell_type": "code",
   "execution_count": 18,
   "id": "22ef0873",
   "metadata": {},
   "outputs": [
    {
     "name": "stdout",
     "output_type": "stream",
     "text": [
      "              precision    recall  f1-score   support\n",
      "\n",
      "       covid       0.93      0.89      0.91       200\n",
      "      normal       0.90      0.94      0.92       200\n",
      "tuberculosis       0.99      0.97      0.98       200\n",
      "   pneumonia       0.94      0.97      0.95       200\n",
      "\n",
      "    accuracy                           0.94       800\n",
      "   macro avg       0.94      0.94      0.94       800\n",
      "weighted avg       0.94      0.94      0.94       800\n",
      "\n"
     ]
    }
   ],
   "source": [
    "labels = ['covid', 'normal','tuberculosis', 'pneumonia']\n",
    "report_VGG = classification_report(test_dataset_VGG.classes, rounded_predictions_VGG, target_names=labels)\n",
    "print(report_VGG)\n"
   ]
  },
  {
   "cell_type": "code",
   "execution_count": null,
   "id": "f2c3cc24",
   "metadata": {},
   "outputs": [],
   "source": []
  },
  {
   "cell_type": "code",
   "execution_count": 19,
   "id": "7fbdfde4",
   "metadata": {},
   "outputs": [],
   "source": [
    "# create history loss and accuracy function\n",
    "def plot_loss_acc(history):\n",
    "    train_loss = history.history['loss']\n",
    "    val_loss = history.history['val_loss']\n",
    "    acc = history.history['acc']\n",
    "    val_acc = history.history['val_acc']\n",
    "    epochs = range(len(train_loss))\n",
    "\n",
    "    plt.figure(figsize=(8,6))\n",
    "    plt.plot(epochs, train_loss, color='b', label='Train')\n",
    "    plt.plot(epochs, val_loss, color='orange', label='Validation')\n",
    "    plt.legend()\n",
    "    plt.title('Model Loss')\n",
    "    plt.xlabel('Epoch')\n",
    "    plt.ylabel('Loss')\n",
    "    \n",
    "    \n",
    "    plt.figure(figsize=(8,6))\n",
    "    plt.plot(epochs, acc, color='b', label='Train')\n",
    "    plt.plot(epochs, val_acc, color='orange', label='Validation')\n",
    "    plt.legend()\n",
    "    plt.title('Model Accuracy')\n",
    "    plt.xlabel('Epoch')\n",
    "    plt.ylabel('Accuracy')\n",
    "    \n",
    "    plt.show()"
   ]
  },
  {
   "cell_type": "code",
   "execution_count": 20,
   "id": "3f5e8a44",
   "metadata": {},
   "outputs": [
    {
     "data": {
      "image/png": "[encoded data removed]",
      "text/plain": [
       "<Figure size 576x432 with 1 Axes>"
      ]
     },
     "metadata": {
      "needs_background": "light"
     },
     "output_type": "display_data"
    },
    {
     "data": {
      "image/png": "[encoded data removed]",
      "text/plain": [
       "<Figure size 576x432 with 1 Axes>"
      ]
     },
     "metadata": {
      "needs_background": "light"
     },
     "output_type": "display_data"
    }
   ],
   "source": [
    "plot_loss_acc(history_VGG)"
   ]
  },
  {
   "cell_type": "code",
   "execution_count": null,
   "id": "9086a3ac",
   "metadata": {},
   "outputs": [],
   "source": []
  },
  {
   "cell_type": "code",
   "execution_count": null,
   "id": "f5613276",
   "metadata": {},
   "outputs": [],
   "source": []
  }
 ],
 "metadata": {
  "kernelspec": {
   "display_name": "Python 3",
   "language": "python",
   "name": "python3"
  },
  "language_info": {
   "codemirror_mode": {
    "name": "ipython",
    "version": 3
   },
   "file_extension": ".py",
   "mimetype": "text/x-python",
   "name": "python",
   "nbconvert_exporter": "python",
   "pygments_lexer": "ipython3",
   "version": "3.6.12"
  }
 },
 "nbformat": 4,
 "nbformat_minor": 5
}
