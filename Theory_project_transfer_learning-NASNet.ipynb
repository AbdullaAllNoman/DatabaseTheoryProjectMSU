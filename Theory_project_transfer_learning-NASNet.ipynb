{
 "cells": [
  {
   "cell_type": "code",
   "execution_count": 1,
   "id": "4cafba4b",
   "metadata": {},
   "outputs": [],
   "source": [
    "from tensorflow.keras.preprocessing.image import ImageDataGenerator\n",
    "from tensorflow.keras.preprocessing import image\n",
    "from tensorflow.keras.optimizers import RMSprop\n",
    "import matplotlib.pyplot as plt\n",
    "import tensorflow as tf\n",
    "import numpy as np\n",
    "import cv2\n",
    "import os\n",
    "import sys\n",
    "stderr = sys.stderr\n",
    "sys.stderr = open(os.devnull, 'w')\n",
    "import keras\n",
    "sys.stderr = stderr\n",
    "    \n",
    "import tensorflow as tf\n",
    "\n",
    "\n",
    "from keras.callbacks import TensorBoard, ModelCheckpoint, EarlyStopping, CSVLogger\n",
    "\n",
    "import argparse\n",
    "from keras.models import Model\n",
    "from keras.models import Sequential\n",
    "from keras.layers import Dense, Dropout, Flatten\n",
    "from keras.layers import Conv2D, MaxPooling2D\n",
    "from keras import backend as K\n",
    "from keras.preprocessing.image import ImageDataGenerator\n",
    "\n",
    "\n",
    "from tensorflow.keras.applications import NASNetMobile\n",
    "\n",
    "\n",
    "\n",
    "import keras.metrics\n",
    "\n",
    "from tensorflow.keras.optimizers import Adam, RMSprop\n",
    "import numpy as np\n",
    "\n",
    "\n",
    "from sklearn.metrics import classification_report, confusion_matrix\n",
    "from sklearn.datasets import make_classification\n",
    "from sklearn.model_selection import train_test_split\n",
    "from sklearn.metrics import roc_curve\n",
    "\n",
    "from sklearn.metrics import auc\n",
    "from keras.models import Sequential\n",
    "from keras.layers import Dense, Activation, Dropout, Flatten, Conv2D, MaxPooling2D\n",
    "from tensorflow.keras.layers import BatchNormalization\n",
    "\n",
    "from keras.models import Sequential\n",
    "from keras.layers.core import Dense, Dropout, Activation, Flatten\n",
    "from keras.layers.convolutional import Conv2D, MaxPooling2D, ZeroPadding2D\n",
    "from keras.regularizers import l2\n",
    "\n",
    "\n",
    "\n",
    "\n",
    "import numpy, scipy.io\n",
    "#import torch\n",
    "#import torchvision.models as models\n",
    "from keras import models\n",
    "from keras import layers\n",
    "from keras import optimizers\n",
    "from keras.layers.core import Flatten, Dense, Dropout, Lambda\n",
    "import tensorflow as tf\n",
    "from tensorflow.keras.optimizers import SGD\n",
    "from keras.applications.resnet import ResNet50\n",
    "from keras.models import Model\n",
    "import keras"
   ]
  },
  {
   "cell_type": "code",
   "execution_count": 2,
   "id": "59583197",
   "metadata": {},
   "outputs": [],
   "source": [
    "\n",
    "trainVGG = ImageDataGenerator(rescale=1./255,\n",
    "                          rotation_range=0.2,\n",
    "                          shear_range=0.2,\n",
    "                          horizontal_flip=True)\n",
    "testVGG = ImageDataGenerator(rescale = 1./255,\n",
    "                          rotation_range=0.2,\n",
    "                          shear_range=0.2,\n",
    "                          horizontal_flip=True)\n",
    "validationVGG = ImageDataGenerator(rescale = 1./255)"
   ]
  },
  {
   "cell_type": "code",
   "execution_count": 3,
   "id": "2d3099fe",
   "metadata": {},
   "outputs": [
    {
     "name": "stdout",
     "output_type": "stream",
     "text": [
      "Found 3200 images belonging to 4 classes.\n",
      "Found 800 images belonging to 4 classes.\n",
      "Found 1600 images belonging to 4 classes.\n"
     ]
    }
   ],
   "source": [
    "IMAGE_SIZE_VGG = (224, 224)\n",
    "NUM_EPOCHS_VGG = 50\n",
    "BATCH_SIZE_VGG = 32\n",
    "LEARNING_RATE_VGG = 0.001\n",
    "DROP_OUT_VGG = 0.3\n",
    "\n",
    "\n",
    "train_dataset_VGG = trainVGG.flow_from_directory('dataset/Train/',\n",
    "                                         target_size = IMAGE_SIZE_VGG,\n",
    "                                         color_mode='rgb',\n",
    "                                         batch_size = BATCH_SIZE_VGG,\n",
    "                                         class_mode = 'categorical',\n",
    "                                         shuffle=False)\n",
    "\n",
    "test_dataset_VGG = trainVGG.flow_from_directory('dataset/Test/',\n",
    "                                         target_size = IMAGE_SIZE_VGG,\n",
    "                                         color_mode='rgb',\n",
    "                                         batch_size = BATCH_SIZE_VGG,\n",
    "                                         class_mode = 'categorical',\n",
    "                                         shuffle=False)\n",
    "\n",
    "validation_dataset_VGG = trainVGG.flow_from_directory('dataset/Validation/',\n",
    "                                         target_size = IMAGE_SIZE_VGG,\n",
    "                                         color_mode='rgb',\n",
    "                                         batch_size = BATCH_SIZE_VGG,\n",
    "                                         class_mode = 'categorical',\n",
    "                                         shuffle=False)"
   ]
  },
  {
   "cell_type": "code",
   "execution_count": 4,
   "id": "53ec91cb",
   "metadata": {},
   "outputs": [
    {
     "data": {
      "text/plain": [
       "{'covid': 0, 'normal': 1, 'pneumonia': 2, 'tuberculosis': 3}"
      ]
     },
     "execution_count": 4,
     "metadata": {},
     "output_type": "execute_result"
    }
   ],
   "source": [
    "validation_dataset_VGG.class_indices"
   ]
  },
  {
   "cell_type": "code",
   "execution_count": 5,
   "id": "c8fbd80d",
   "metadata": {},
   "outputs": [],
   "source": [
    "STEP_SIZE_TRAIN_VGG=len(train_dataset_VGG)\n",
    "STEP_SIZE_VALID_VGG=len(validation_dataset_VGG)"
   ]
  },
  {
   "cell_type": "code",
   "execution_count": 6,
   "id": "f9c516e3",
   "metadata": {},
   "outputs": [
    {
     "name": "stderr",
     "output_type": "stream",
     "text": [
      "WARNING:absl:Function `_wrapped_model` contains input name(s) NASNet_input with unsupported characters which will be renamed to nasnet_input in the SavedModel.\n"
     ]
    },
    {
     "name": "stdout",
     "output_type": "stream",
     "text": [
      "INFO:tensorflow:Assets written to: NASNetMobile.model\\assets\n"
     ]
    },
    {
     "name": "stderr",
     "output_type": "stream",
     "text": [
      "INFO:tensorflow:Assets written to: NASNetMobile.model\\assets\n",
      "C:\\Users\\Hp\\AppData\\Roaming\\Python\\Python36\\site-packages\\keras\\utils\\generic_utils.py:497: CustomMaskWarning: Custom mask layers require a config and must override get_config. When loading, the custom mask layer must be passed to the custom_objects argument.\n",
      "  category=CustomMaskWarning)\n"
     ]
    }
   ],
   "source": [
    "conv_base_VGG = NASNetMobile(weights='imagenet', include_top=False, input_shape=(224, 224, 3))\n",
    "conv_base_VGG.trainable = False\n",
    "\n",
    "model_VGG = models.Sequential()\n",
    "model_VGG.add(conv_base_VGG)\n",
    "model_VGG.add(layers.Flatten())\n",
    "model_VGG.add(layers.Dense(128, activation='relu'))\n",
    "model_VGG.add(Dropout(DROP_OUT_VGG))\n",
    "model_VGG.add(layers.Dense(4, activation='softmax'))\n",
    "model_VGG.compile(loss='categorical_crossentropy', optimizer=RMSprop(learning_rate=LEARNING_RATE_VGG), metrics=['acc'])\n",
    "model_VGG.save('NASNetMobile.model')"
   ]
  },
  {
   "cell_type": "code",
   "execution_count": 7,
   "id": "0f66aacd",
   "metadata": {},
   "outputs": [],
   "source": [
    "# Define early stopping callback\n",
    "early_stop = EarlyStopping(monitor='val_loss', patience=5, verbose=1, mode='auto')"
   ]
  },
  {
   "cell_type": "code",
   "execution_count": 8,
   "id": "cb670561",
   "metadata": {},
   "outputs": [
    {
     "name": "stdout",
     "output_type": "stream",
     "text": [
      "Model: \"sequential\"\n",
      "_________________________________________________________________\n",
      "Layer (type)                 Output Shape              Param #   \n",
      "=================================================================\n",
      "NASNet (Functional)          (None, 7, 7, 1056)        4269716   \n",
      "_________________________________________________________________\n",
      "flatten (Flatten)            (None, 51744)             0         \n",
      "_________________________________________________________________\n",
      "dense (Dense)                (None, 128)               6623360   \n",
      "_________________________________________________________________\n",
      "dropout (Dropout)            (None, 128)               0         \n",
      "_________________________________________________________________\n",
      "dense_1 (Dense)              (None, 4)                 516       \n",
      "=================================================================\n",
      "Total params: 10,893,592\n",
      "Trainable params: 6,623,876\n",
      "Non-trainable params: 4,269,716\n",
      "_________________________________________________________________\n",
      "None\n"
     ]
    }
   ],
   "source": [
    "print(model_VGG.summary())"
   ]
  },
  {
   "cell_type": "code",
   "execution_count": 9,
   "id": "19086468",
   "metadata": {},
   "outputs": [
    {
     "name": "stdout",
     "output_type": "stream",
     "text": [
      "Epoch 1/50\n",
      "100/100 [==============================] - 221s 2s/step - loss: 7.6828 - acc: 0.3800 - val_loss: 0.8507 - val_acc: 0.5669\n",
      "Epoch 2/50\n",
      "100/100 [==============================] - 204s 2s/step - loss: 1.2443 - acc: 0.4875 - val_loss: 0.7251 - val_acc: 0.6769\n",
      "Epoch 3/50\n",
      "100/100 [==============================] - 4926s 50s/step - loss: 1.0844 - acc: 0.5666 - val_loss: 0.5896 - val_acc: 0.7688\n",
      "Epoch 4/50\n",
      "100/100 [==============================] - 204s 2s/step - loss: 1.0843 - acc: 0.6112 - val_loss: 4.8506 - val_acc: 0.4350\n",
      "Epoch 5/50\n",
      "100/100 [==============================] - 204s 2s/step - loss: 0.9072 - acc: 0.6844 - val_loss: 0.4373 - val_acc: 0.7831\n",
      "Epoch 6/50\n",
      "100/100 [==============================] - 204s 2s/step - loss: 0.8124 - acc: 0.7147 - val_loss: 0.2974 - val_acc: 0.9025\n",
      "Epoch 7/50\n",
      "100/100 [==============================] - 204s 2s/step - loss: 0.6237 - acc: 0.7572 - val_loss: 0.3185 - val_acc: 0.8888\n",
      "Epoch 8/50\n",
      "100/100 [==============================] - 205s 2s/step - loss: 0.6257 - acc: 0.7750 - val_loss: 0.2965 - val_acc: 0.8838\n",
      "Epoch 9/50\n",
      "100/100 [==============================] - 204s 2s/step - loss: 0.6026 - acc: 0.7859 - val_loss: 0.1936 - val_acc: 0.9269\n",
      "Epoch 10/50\n",
      "100/100 [==============================] - 207s 2s/step - loss: 0.5323 - acc: 0.7987 - val_loss: 0.3316 - val_acc: 0.8587\n",
      "Epoch 11/50\n",
      "100/100 [==============================] - 203s 2s/step - loss: 0.5350 - acc: 0.8097 - val_loss: 0.1520 - val_acc: 0.9456\n",
      "Epoch 12/50\n",
      "100/100 [==============================] - 204s 2s/step - loss: 0.5460 - acc: 0.8141 - val_loss: 0.1921 - val_acc: 0.9369\n",
      "Epoch 13/50\n",
      "100/100 [==============================] - 202s 2s/step - loss: 0.4301 - acc: 0.8281 - val_loss: 0.1580 - val_acc: 0.9350\n",
      "Epoch 14/50\n",
      "100/100 [==============================] - 202s 2s/step - loss: 0.4424 - acc: 0.8266 - val_loss: 0.1654 - val_acc: 0.9312\n",
      "Epoch 15/50\n",
      "100/100 [==============================] - 205s 2s/step - loss: 0.3881 - acc: 0.8419 - val_loss: 0.1235 - val_acc: 0.9519\n",
      "Epoch 16/50\n",
      "100/100 [==============================] - 204s 2s/step - loss: 0.3583 - acc: 0.8594 - val_loss: 0.1708 - val_acc: 0.9469\n",
      "Epoch 17/50\n",
      "100/100 [==============================] - 204s 2s/step - loss: 0.3967 - acc: 0.8438 - val_loss: 0.1520 - val_acc: 0.9475\n",
      "Epoch 18/50\n",
      "100/100 [==============================] - 203s 2s/step - loss: 0.3462 - acc: 0.8569 - val_loss: 0.1427 - val_acc: 0.9375\n",
      "Epoch 19/50\n",
      "100/100 [==============================] - 203s 2s/step - loss: 0.3475 - acc: 0.8528 - val_loss: 0.2210 - val_acc: 0.9050\n",
      "Epoch 20/50\n",
      "100/100 [==============================] - 204s 2s/step - loss: 0.3504 - acc: 0.8612 - val_loss: 0.2000 - val_acc: 0.9150\n",
      "Epoch 00020: early stopping\n"
     ]
    }
   ],
   "source": [
    "from keras.callbacks import CSVLogger\n",
    "csv_VGG19 = CSVLogger('NASNetMobile.log', separator=',', append=False)\n",
    "\n",
    "history_VGG=model_VGG.fit(train_dataset_VGG,\n",
    " steps_per_epoch =STEP_SIZE_TRAIN_VGG,\n",
    " validation_data = validation_dataset_VGG,\n",
    " validation_steps = STEP_SIZE_VALID_VGG,\n",
    " epochs= NUM_EPOCHS_VGG,\n",
    " callbacks=[early_stop]\n",
    " )"
   ]
  },
  {
   "cell_type": "code",
   "execution_count": 10,
   "id": "9ac64689",
   "metadata": {},
   "outputs": [
    {
     "name": "stdout",
     "output_type": "stream",
     "text": [
      "25/25 [==============================] - 34s 1s/step - loss: 0.6955 - acc: 0.8587\n"
     ]
    },
    {
     "data": {
      "text/plain": [
       "[0.6955322027206421, 0.8587499856948853]"
      ]
     },
     "execution_count": 10,
     "metadata": {},
     "output_type": "execute_result"
    }
   ],
   "source": [
    "model_VGG.evaluate(test_dataset_VGG)"
   ]
  },
  {
   "cell_type": "code",
   "execution_count": 11,
   "id": "95f89d0b",
   "metadata": {},
   "outputs": [],
   "source": [
    "predictions_VGG = model_VGG.predict(x=test_dataset_VGG, verbose=0)"
   ]
  },
  {
   "cell_type": "code",
   "execution_count": 12,
   "id": "a4b6aa0a",
   "metadata": {},
   "outputs": [],
   "source": [
    "rounded_predictions_VGG = np.argmax(predictions_VGG, axis=-1)"
   ]
  },
  {
   "cell_type": "code",
   "execution_count": null,
   "id": "7f4ca7dd",
   "metadata": {},
   "outputs": [],
   "source": []
  },
  {
   "cell_type": "code",
   "execution_count": 13,
   "id": "539dd6c0",
   "metadata": {},
   "outputs": [],
   "source": [
    "%matplotlib inline\n",
    "from sklearn.metrics import confusion_matrix\n",
    "import itertools\n",
    "import matplotlib.pyplot as plt"
   ]
  },
  {
   "cell_type": "code",
   "execution_count": 14,
   "id": "f2beadab",
   "metadata": {},
   "outputs": [],
   "source": [
    "cm_VGG = confusion_matrix(y_true=test_dataset_VGG.classes, y_pred=rounded_predictions_VGG)"
   ]
  },
  {
   "cell_type": "code",
   "execution_count": 15,
   "id": "5de2caa5",
   "metadata": {},
   "outputs": [],
   "source": [
    "def plot_confusion_matrix(cm, classes,\n",
    "                          normalize=False,\n",
    "                          title='Confusion matrix',\n",
    "                          cmap=plt.cm.Blues):\n",
    "    \"\"\"\n",
    "    This function prints and plots the confusion matrix.\n",
    "    Normalization can be applied by setting `normalize=True`.\n",
    "    \"\"\"\n",
    "    plt.imshow(cm, interpolation='nearest', cmap=cmap)\n",
    "    plt.title(title)\n",
    "    plt.colorbar()\n",
    "    tick_marks = np.arange(len(classes))\n",
    "    plt.xticks(tick_marks, classes, rotation=45)\n",
    "    plt.yticks(tick_marks, classes)\n",
    "\n",
    "    if normalize:\n",
    "        cm = cm.astype('float') / cm.sum(axis=1)[:, np.newaxis]\n",
    "        print(\"Normalized confusion matrix\")\n",
    "    else:\n",
    "        print('Confusion matrix, without normalization')\n",
    "\n",
    "    print(cm)\n",
    "\n",
    "    thresh = cm.max() / 2.\n",
    "    for i, j in itertools.product(range(cm.shape[0]), range(cm.shape[1])):\n",
    "        plt.text(j, i, cm[i, j],\n",
    "                 horizontalalignment=\"center\",\n",
    "                 color=\"white\" if cm[i, j] > thresh else \"black\")\n",
    "\n",
    "    plt.tight_layout()\n",
    "    plt.ylabel('True label')\n",
    "    plt.xlabel('Predicted label')"
   ]
  },
  {
   "cell_type": "code",
   "execution_count": 16,
   "id": "cacd6945",
   "metadata": {},
   "outputs": [
    {
     "name": "stdout",
     "output_type": "stream",
     "text": [
      "Confusion matrix, without normalization\n",
      "[[135  57   6   2]\n",
      " [  1 199   0   0]\n",
      " [  3   3 194   0]\n",
      " [ 20  26   5 149]]\n"
     ]
    },
    {
     "data": {
      "image/png": "[encoded data removed]",
      "text/plain": [
       "<Figure size 432x288 with 2 Axes>"
      ]
     },
     "metadata": {
      "needs_background": "light"
     },
     "output_type": "display_data"
    }
   ],
   "source": [
    "cm_plot_labels = ['covid', 'normal','tuberculosis', 'pneumonia']\n",
    "plot_confusion_matrix(cm=cm_VGG, classes=cm_plot_labels, title='Confusion Matrix VGG16')"
   ]
  },
  {
   "cell_type": "code",
   "execution_count": 17,
   "id": "15d96b58",
   "metadata": {},
   "outputs": [],
   "source": [
    "from sklearn.metrics import confusion_matrix, classification_report\n",
    "import seaborn as sns"
   ]
  },
  {
   "cell_type": "code",
   "execution_count": 18,
   "id": "22ef0873",
   "metadata": {},
   "outputs": [
    {
     "name": "stdout",
     "output_type": "stream",
     "text": [
      "              precision    recall  f1-score   support\n",
      "\n",
      "       covid       0.85      0.68      0.75       200\n",
      "      normal       0.70      0.99      0.82       200\n",
      "tuberculosis       0.95      0.97      0.96       200\n",
      "   pneumonia       0.99      0.74      0.85       200\n",
      "\n",
      "    accuracy                           0.85       800\n",
      "   macro avg       0.87      0.85      0.84       800\n",
      "weighted avg       0.87      0.85      0.84       800\n",
      "\n"
     ]
    }
   ],
   "source": [
    "labels = ['covid', 'normal','tuberculosis', 'pneumonia']\n",
    "report_VGG = classification_report(test_dataset_VGG.classes, rounded_predictions_VGG, target_names=labels)\n",
    "print(report_VGG)\n"
   ]
  },
  {
   "cell_type": "code",
   "execution_count": null,
   "id": "f2c3cc24",
   "metadata": {},
   "outputs": [],
   "source": []
  },
  {
   "cell_type": "code",
   "execution_count": 19,
   "id": "7fbdfde4",
   "metadata": {},
   "outputs": [],
   "source": [
    "# create history loss and accuracy function\n",
    "def plot_loss_acc(history):\n",
    "    train_loss = history.history['loss']\n",
    "    val_loss = history.history['val_loss']\n",
    "    acc = history.history['acc']\n",
    "    val_acc = history.history['val_acc']\n",
    "    epochs = range(len(train_loss))\n",
    "\n",
    "    plt.figure(figsize=(8,6))\n",
    "    plt.plot(epochs, train_loss, color='b', label='Train')\n",
    "    plt.plot(epochs, val_loss, color='orange', label='Validation')\n",
    "    plt.legend()\n",
    "    plt.title('Model Loss')\n",
    "    plt.xlabel('Epoch')\n",
    "    plt.ylabel('Loss')\n",
    "    \n",
    "    \n",
    "    plt.figure(figsize=(8,6))\n",
    "    plt.plot(epochs, acc, color='b', label='Train')\n",
    "    plt.plot(epochs, val_acc, color='orange', label='Validation')\n",
    "    plt.legend()\n",
    "    plt.title('Model Accuracy')\n",
    "    plt.xlabel('Epoch')\n",
    "    plt.ylabel('Accuracy')\n",
    "    \n",
    "    plt.show()"
   ]
  },
  {
   "cell_type": "code",
   "execution_count": 20,
   "id": "3f5e8a44",
   "metadata": {},
   "outputs": [
    {
     "data": {
      "image/png": "[encoded data removed]",
      "text/plain": [
       "<Figure size 576x432 with 1 Axes>"
      ]
     },
     "metadata": {
      "needs_background": "light"
     },
     "output_type": "display_data"
    },
    {
     "data": {
      "image/png": "[encoded data removed]",
      "text/plain": [
       "<Figure size 576x432 with 1 Axes>"
      ]
     },
     "metadata": {
      "needs_background": "light"
     },
     "output_type": "display_data"
    }
   ],
   "source": [
    "plot_loss_acc(history_VGG)"
   ]
  },
  {
   "cell_type": "code",
   "execution_count": null,
   "id": "9086a3ac",
   "metadata": {},
   "outputs": [],
   "source": []
  },
  {
   "cell_type": "markdown",
   "id": "4c05c0e2",
   "metadata": {},
   "source": [
    "###### "
   ]
  }
 ],
 "metadata": {
  "kernelspec": {
   "display_name": "Python 3",
   "language": "python",
   "name": "python3"
  },
  "language_info": {
   "codemirror_mode": {
    "name": "ipython",
    "version": 3
   },
   "file_extension": ".py",
   "mimetype": "text/x-python",
   "name": "python",
   "nbconvert_exporter": "python",
   "pygments_lexer": "ipython3",
   "version": "3.6.12"
  }
 },
 "nbformat": 4,
 "nbformat_minor": 5
}
